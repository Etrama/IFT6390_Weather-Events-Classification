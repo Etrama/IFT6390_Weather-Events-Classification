{
 "cells": [
  {
   "cell_type": "code",
   "execution_count": 1,
   "metadata": {},
   "outputs": [],
   "source": [
    "import numpy as np\n",
    "import scipy #only sparse matrices allowed\n",
    "import pandas as pd\n",
    "import matplotlib.pyplot as plt"
   ]
  },
  {
   "cell_type": "code",
   "execution_count": 2,
   "metadata": {},
   "outputs": [],
   "source": [
    "from sklearn.metrics import classification_report\n",
    "from sklearn.metrics import confusion_matrix\n",
    "from sklearn.metrics import accuracy_score"
   ]
  },
  {
   "cell_type": "code",
   "execution_count": 3,
   "metadata": {},
   "outputs": [],
   "source": [
    "from sklearn.linear_model import LogisticRegression\n",
    "from sklearn.svm import SVC\n",
    "from sklearn.naive_bayes import GaussianNB\n",
    "from sklearn.naive_bayes import MultinomialNB\n",
    "from sklearn.linear_model import SGDClassifier\n",
    "from sklearn.neighbors import KNeighborsClassifier\n",
    "from sklearn.tree import DecisionTreeClassifier\n",
    "from sklearn.ensemble import RandomForestClassifier\n",
    "from sklearn.ensemble import GradientBoostingClassifier\n",
    "from lightgbm import LGBMClassifier\n",
    "from xgboost.sklearn import XGBClassifier"
   ]
  },
  {
   "cell_type": "code",
   "execution_count": 22,
   "metadata": {},
   "outputs": [],
   "source": [
    "#https://scikit-learn.org/stable/modules/generated/sklearn.linear_model.LogisticRegression.html\n",
    "lightgbm_clf = LGBMClassifier()\n",
    "lightgbm_clf.fit(X_train,y_train.ravel())\n",
    "lightgbm_predictions = lightgbm_clf.predict(X_test)\n",
    "lightgbm_accuracy = lightgbm_clf.score(X_test, y_test.ravel())"
   ]
  },
  {
   "cell_type": "code",
   "execution_count": 23,
   "metadata": {},
   "outputs": [
    {
     "data": {
      "text/plain": [
       "0.8915680473372781"
      ]
     },
     "execution_count": 23,
     "metadata": {},
     "output_type": "execute_result"
    }
   ],
   "source": [
    "lightgbm_accuracy"
   ]
  },
  {
   "cell_type": "code",
   "execution_count": 4,
   "metadata": {},
   "outputs": [],
   "source": [
    "#https://stackoverflow.com/questions/3518778/how-do-i-read-csv-data-into-a-record-array-in-numpy\n",
    "from numpy import genfromtxt\n",
    "X_test_std = genfromtxt('X_test_std.csv', delimiter=',')\n",
    "X_train_ada_std = genfromtxt('X_train_ada_std.csv', delimiter=',')\n",
    "X_train_std = genfromtxt('X_train_std.csv', delimiter=',')\n",
    "\n",
    "y_test = genfromtxt('y_test.csv', delimiter=',')\n",
    "y_train_ada = genfromtxt('y_train_ada.csv', delimiter=',')\n",
    "y_train = genfromtxt('y_train.csv', delimiter=',')"
   ]
  },
  {
   "cell_type": "markdown",
   "metadata": {},
   "source": [
    "# Gridsearch for best hyperparameters:"
   ]
  },
  {
   "cell_type": "code",
   "execution_count": 5,
   "metadata": {},
   "outputs": [],
   "source": [
    "from sklearn.model_selection import GridSearchCV\n",
    "from sklearn.experimental import enable_halving_search_cv  # noqa\n",
    "from sklearn.model_selection import HalvingRandomSearchCV\n",
    "from sklearn.model_selection import RandomizedSearchCV"
   ]
  },
  {
   "cell_type": "code",
   "execution_count": 6,
   "metadata": {},
   "outputs": [],
   "source": [
    "#https://www.analyticsvidhya.com/blog/2021/06/tune-hyperparameters-with-gridsearchcv/\n",
    "#https://www.mygreatlearning.com/blog/gridsearchcv/"
   ]
  },
  {
   "cell_type": "code",
   "execution_count": 7,
   "metadata": {},
   "outputs": [],
   "source": [
    "param_grid = {\n",
    "    'boosting_type' : ['gbdt', 'dart', 'goss'],\n",
    "    'num_leaves' : [16, 31, 64],\n",
    "    'max_depth' : [-1, 2, 4, 8],\n",
    "    'n_estimators' : [50, 100, 200],\n",
    "    'objective' : ['multiclass'],\n",
    "    'class_weight' : ['balanced', None],\n",
    "    'reg_alpha' : [0.0, 1.0, 0.1, 0.001],\n",
    "    'reg_lambda' : [0.0, 1.0, 0.1, 0.001],\n",
    "    'importance_type' : ['split', 'gain']\n",
    "}"
   ]
  },
  {
   "cell_type": "code",
   "execution_count": 8,
   "metadata": {
    "collapsed": true,
    "jupyter": {
     "outputs_hidden": true
    }
   },
   "outputs": [
    {
     "name": "stdout",
     "output_type": "stream",
     "text": [
      "n_iterations: 11\n",
      "n_required_iterations: 11\n",
      "n_possible_iterations: 11\n",
      "min_resources_: 30\n",
      "max_resources_: 47961\n",
      "aggressive_elimination: False\n",
      "factor: 2\n",
      "----------\n",
      "iter: 0\n",
      "n_candidates: 1598\n",
      "n_resources: 30\n",
      "Fitting 5 folds for each of 1598 candidates, totalling 7990 fits\n",
      "----------\n",
      "iter: 1\n",
      "n_candidates: 799\n",
      "n_resources: 60\n",
      "Fitting 5 folds for each of 799 candidates, totalling 3995 fits\n",
      "----------\n",
      "iter: 2\n",
      "n_candidates: 400\n",
      "n_resources: 120\n",
      "Fitting 5 folds for each of 400 candidates, totalling 2000 fits\n",
      "----------\n",
      "iter: 3\n",
      "n_candidates: 200\n",
      "n_resources: 240\n",
      "Fitting 5 folds for each of 200 candidates, totalling 1000 fits\n",
      "----------\n",
      "iter: 4\n",
      "n_candidates: 100\n",
      "n_resources: 480\n",
      "Fitting 5 folds for each of 100 candidates, totalling 500 fits\n",
      "----------\n",
      "iter: 5\n",
      "n_candidates: 50\n",
      "n_resources: 960\n",
      "Fitting 5 folds for each of 50 candidates, totalling 250 fits\n",
      "----------\n",
      "iter: 6\n",
      "n_candidates: 25\n",
      "n_resources: 1920\n",
      "Fitting 5 folds for each of 25 candidates, totalling 125 fits\n",
      "----------\n",
      "iter: 7\n",
      "n_candidates: 13\n",
      "n_resources: 3840\n",
      "Fitting 5 folds for each of 13 candidates, totalling 65 fits\n",
      "----------\n",
      "iter: 8\n",
      "n_candidates: 7\n",
      "n_resources: 7680\n",
      "Fitting 5 folds for each of 7 candidates, totalling 35 fits\n",
      "----------\n",
      "iter: 9\n",
      "n_candidates: 4\n",
      "n_resources: 15360\n",
      "Fitting 5 folds for each of 4 candidates, totalling 20 fits\n",
      "----------\n",
      "iter: 10\n",
      "n_candidates: 2\n",
      "n_resources: 30720\n",
      "Fitting 5 folds for each of 2 candidates, totalling 10 fits\n"
     ]
    },
    {
     "data": {
      "text/plain": [
       "HalvingRandomSearchCV(estimator=LGBMClassifier(), factor=2, n_jobs=-1,\n",
       "                      param_distributions={'boosting_type': ['gbdt', 'dart',\n",
       "                                                             'goss'],\n",
       "                                           'class_weight': ['balanced', None],\n",
       "                                           'importance_type': ['split', 'gain'],\n",
       "                                           'max_depth': [-1, 2, 4, 8],\n",
       "                                           'n_estimators': [50, 100, 200],\n",
       "                                           'num_leaves': [16, 31, 64],\n",
       "                                           'objective': ['multiclass'],\n",
       "                                           'reg_alpha': [0.0, 1.0, 0.1, 0.001],\n",
       "                                           'reg_lambda': [0.0, 1.0, 0.1,\n",
       "                                                          0.001]},\n",
       "                      verbose=2)"
      ]
     },
     "execution_count": 8,
     "metadata": {},
     "output_type": "execute_result"
    }
   ],
   "source": [
    "lightgbm_clf = LGBMClassifier()\n",
    "grid = HalvingRandomSearchCV(estimator = lightgbm_clf, param_distributions = param_grid, refit = True, verbose = 2, n_jobs=-1, factor = 2)\n",
    "# fitting the model for grid search \n",
    "grid.fit(X_train_ada_std, y_train_ada.ravel())"
   ]
  },
  {
   "cell_type": "code",
   "execution_count": 9,
   "metadata": {},
   "outputs": [
    {
     "name": "stdout",
     "output_type": "stream",
     "text": [
      "{'reg_lambda': 0.0, 'reg_alpha': 0.001, 'objective': 'multiclass', 'num_leaves': 64, 'n_estimators': 200, 'max_depth': -1, 'importance_type': 'split', 'class_weight': 'balanced', 'boosting_type': 'gbdt'}\n"
     ]
    }
   ],
   "source": [
    "# print best parameter after tuning \n",
    "print(grid.best_params_) \n",
    "grid_predictions = grid.predict(X_test_std)"
   ]
  },
  {
   "cell_type": "code",
   "execution_count": 10,
   "metadata": {},
   "outputs": [
    {
     "name": "stdout",
     "output_type": "stream",
     "text": [
      "              precision    recall  f1-score   support\n",
      "\n",
      "         0.0       0.99      0.76      0.86      2827\n",
      "         1.0       0.23      0.97      0.37       109\n",
      "         2.0       0.58      0.98      0.73       458\n",
      "\n",
      "    accuracy                           0.80      3394\n",
      "   macro avg       0.60      0.90      0.65      3394\n",
      "weighted avg       0.91      0.80      0.83      3394\n",
      "\n"
     ]
    }
   ],
   "source": [
    "print(classification_report(y_test, grid_predictions)) "
   ]
  },
  {
   "cell_type": "code",
   "execution_count": null,
   "metadata": {},
   "outputs": [],
   "source": []
  },
  {
   "cell_type": "code",
   "execution_count": 31,
   "metadata": {},
   "outputs": [],
   "source": [
    "param_grid2 = {\n",
    "    'boosting_type' : ['gbdt','dart', 'goss'],\n",
    "    'num_leaves' : [16, 31, 64],\n",
    "    'max_depth' : [-1, 2, 4, 8],\n",
    "    'n_estimators' : [50, 100, 200],\n",
    "    #'objective' : ['multiclass'],\n",
    "    'class_weight' : ['balanced', None],\n",
    "    'reg_alpha' : [0.0, 1.0, 0.1, 0.001],\n",
    "    'reg_lambda' : [0.0, 1.0, 0.1, 0.001],\n",
    "    'importance_type' : ['split', 'gain']\n",
    "}"
   ]
  },
  {
   "cell_type": "code",
   "execution_count": 32,
   "metadata": {
    "collapsed": true,
    "jupyter": {
     "outputs_hidden": true
    }
   },
   "outputs": [
    {
     "name": "stdout",
     "output_type": "stream",
     "text": [
      "n_iterations: 10\n",
      "n_required_iterations: 10\n",
      "n_possible_iterations: 10\n",
      "min_resources_: 30\n",
      "max_resources_: 19256\n",
      "aggressive_elimination: False\n",
      "factor: 2\n",
      "----------\n",
      "iter: 0\n",
      "n_candidates: 641\n",
      "n_resources: 30\n",
      "Fitting 5 folds for each of 641 candidates, totalling 3205 fits\n",
      "----------\n",
      "iter: 1\n",
      "n_candidates: 321\n",
      "n_resources: 60\n",
      "Fitting 5 folds for each of 321 candidates, totalling 1605 fits\n",
      "----------\n",
      "iter: 2\n",
      "n_candidates: 161\n",
      "n_resources: 120\n",
      "Fitting 5 folds for each of 161 candidates, totalling 805 fits\n",
      "----------\n",
      "iter: 3\n",
      "n_candidates: 81\n",
      "n_resources: 240\n",
      "Fitting 5 folds for each of 81 candidates, totalling 405 fits\n",
      "----------\n",
      "iter: 4\n",
      "n_candidates: 41\n",
      "n_resources: 480\n",
      "Fitting 5 folds for each of 41 candidates, totalling 205 fits\n",
      "----------\n",
      "iter: 5\n",
      "n_candidates: 21\n",
      "n_resources: 960\n",
      "Fitting 5 folds for each of 21 candidates, totalling 105 fits\n",
      "----------\n",
      "iter: 6\n",
      "n_candidates: 11\n",
      "n_resources: 1920\n",
      "Fitting 5 folds for each of 11 candidates, totalling 55 fits\n",
      "----------\n",
      "iter: 7\n",
      "n_candidates: 6\n",
      "n_resources: 3840\n",
      "Fitting 5 folds for each of 6 candidates, totalling 30 fits\n",
      "----------\n",
      "iter: 8\n",
      "n_candidates: 3\n",
      "n_resources: 7680\n",
      "Fitting 5 folds for each of 3 candidates, totalling 15 fits\n",
      "----------\n",
      "iter: 9\n",
      "n_candidates: 2\n",
      "n_resources: 15360\n",
      "Fitting 5 folds for each of 2 candidates, totalling 10 fits\n"
     ]
    },
    {
     "data": {
      "text/plain": [
       "HalvingRandomSearchCV(estimator=LGBMClassifier(), factor=2, n_jobs=-1,\n",
       "                      param_distributions={'boosting_type': ['gbdt', 'dart',\n",
       "                                                             'goss'],\n",
       "                                           'class_weight': ['balanced', None],\n",
       "                                           'importance_type': ['split', 'gain'],\n",
       "                                           'max_depth': [-1, 2, 4, 8],\n",
       "                                           'n_estimators': [50, 100, 200],\n",
       "                                           'num_leaves': [16, 31, 64],\n",
       "                                           'reg_alpha': [0.0, 1.0, 0.1, 0.001],\n",
       "                                           'reg_lambda': [0.0, 1.0, 0.1,\n",
       "                                                          0.001]},\n",
       "                      verbose=2)"
      ]
     },
     "execution_count": 32,
     "metadata": {},
     "output_type": "execute_result"
    }
   ],
   "source": [
    "lightgbm_clf = LGBMClassifier()\n",
    "grid = HalvingRandomSearchCV(estimator = lightgbm_clf, param_distributions = param_grid2, refit = True, verbose = 2, n_jobs=-1, factor = 2)\n",
    "# fitting the model for grid search \n",
    "grid.fit(X_train_std, y_train.ravel())"
   ]
  },
  {
   "cell_type": "code",
   "execution_count": 33,
   "metadata": {},
   "outputs": [
    {
     "name": "stdout",
     "output_type": "stream",
     "text": [
      "{'reg_lambda': 1.0, 'reg_alpha': 0.001, 'num_leaves': 64, 'n_estimators': 200, 'max_depth': 8, 'importance_type': 'gain', 'class_weight': None, 'boosting_type': 'gbdt'}\n"
     ]
    }
   ],
   "source": [
    "# print best parameter after tuning \n",
    "print(grid.best_params_) \n",
    "grid_predictions = grid.predict(X_test_std)"
   ]
  },
  {
   "cell_type": "code",
   "execution_count": 34,
   "metadata": {},
   "outputs": [
    {
     "name": "stdout",
     "output_type": "stream",
     "text": [
      "              precision    recall  f1-score   support\n",
      "\n",
      "         0.0       0.99      1.00      1.00      2827\n",
      "         1.0       1.00      0.94      0.97       109\n",
      "         2.0       0.99      0.98      0.99       458\n",
      "\n",
      "    accuracy                           0.99      3394\n",
      "   macro avg       1.00      0.97      0.98      3394\n",
      "weighted avg       0.99      0.99      0.99      3394\n",
      "\n"
     ]
    }
   ],
   "source": [
    "print(classification_report(y_test, grid_predictions)) "
   ]
  },
  {
   "cell_type": "code",
   "execution_count": null,
   "metadata": {},
   "outputs": [],
   "source": []
  },
  {
   "cell_type": "code",
   "execution_count": null,
   "metadata": {},
   "outputs": [],
   "source": []
  },
  {
   "cell_type": "markdown",
   "metadata": {},
   "source": [
    "# Creating a csv for submission:"
   ]
  },
  {
   "cell_type": "code",
   "execution_count": 45,
   "metadata": {},
   "outputs": [],
   "source": [
    "standardized_df_submit = df_standardizer(submit_df)"
   ]
  },
  {
   "cell_type": "code",
   "execution_count": 46,
   "metadata": {},
   "outputs": [],
   "source": [
    "df_submit_np = standardized_df_submit.to_numpy()\n",
    "num_submit = df_submit_np.shape[0]\n",
    "X_submit = np.hstack((np.ones((num_submit,1)),df_submit_np))      "
   ]
  },
  {
   "cell_type": "code",
   "execution_count": 47,
   "metadata": {},
   "outputs": [
    {
     "data": {
      "text/plain": [
       "(7320, 22)"
      ]
     },
     "execution_count": 47,
     "metadata": {},
     "output_type": "execute_result"
    }
   ],
   "source": [
    "X_submit.shape"
   ]
  },
  {
   "cell_type": "code",
   "execution_count": 49,
   "metadata": {},
   "outputs": [],
   "source": [
    "predictions_submit = lightgbm_clf.predict(X_submit)"
   ]
  },
  {
   "cell_type": "code",
   "execution_count": 50,
   "metadata": {},
   "outputs": [],
   "source": [
    "#https://www.kite.com/python/answers/how-to-create-pandas-dataframe-from-a-numpy-array-in-python\n",
    "predictions_df = pd.DataFrame(data=predictions_submit,columns=[\"LABELS\"]).astype(int)\n",
    "#https://stackoverflow.com/questions/18022845/pandas-index-column-title-or-name\n",
    "predictions_df.index.name = \"S.No\"\n",
    "predictions_df.to_csv(r\"./ift3395-6390-weatherevents/submission.csv\")"
   ]
  },
  {
   "cell_type": "code",
   "execution_count": 19,
   "metadata": {},
   "outputs": [],
   "source": [
    "# TO DO"
   ]
  }
 ],
 "metadata": {
  "kernelspec": {
   "display_name": "Python 3 (ipykernel)",
   "language": "python",
   "name": "python3"
  },
  "language_info": {
   "codemirror_mode": {
    "name": "ipython",
    "version": 3
   },
   "file_extension": ".py",
   "mimetype": "text/x-python",
   "name": "python",
   "nbconvert_exporter": "python",
   "pygments_lexer": "ipython3",
   "version": "3.8.5"
  }
 },
 "nbformat": 4,
 "nbformat_minor": 4
}
