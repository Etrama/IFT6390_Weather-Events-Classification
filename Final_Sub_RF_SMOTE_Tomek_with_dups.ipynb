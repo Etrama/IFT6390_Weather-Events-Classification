{
 "cells": [
  {
   "cell_type": "code",
   "execution_count": 1,
   "metadata": {},
   "outputs": [],
   "source": [
    "# Standard imports:"
   ]
  },
  {
   "cell_type": "markdown",
   "metadata": {},
   "source": [
    "### Please do not mind the keyboard Interrupts if any. They were used to ensure that the cell was running."
   ]
  },
  {
   "cell_type": "code",
   "execution_count": null,
   "metadata": {},
   "outputs": [],
   "source": [
    "import numpy as np\n",
    "import scipy #only sparse matrices allowed\n",
    "import pandas as pd\n",
    "import matplotlib.pyplot as plt\n",
    "import seaborn as sns"
   ]
  },
  {
   "cell_type": "code",
   "execution_count": 2,
   "metadata": {},
   "outputs": [],
   "source": [
    "from sklearn.metrics import classification_report\n",
    "from sklearn.metrics import confusion_matrix\n",
    "from sklearn.metrics import accuracy_score\n",
    "#to deal with imbalanced classes\n",
    "from sklearn.metrics import balanced_accuracy_score\n",
    "from sklearn.metrics import f1_score\n",
    "from sklearn.metrics import roc_auc_score\n",
    "from sklearn.metrics import precision_score\n",
    "from sklearn.metrics import recall_score"
   ]
  },
  {
   "cell_type": "code",
   "execution_count": 3,
   "metadata": {},
   "outputs": [],
   "source": [
    "from sklearn.model_selection import GridSearchCV\n",
    "from sklearn.experimental import enable_halving_search_cv \n",
    "from sklearn.model_selection import HalvingRandomSearchCV"
   ]
  },
  {
   "cell_type": "code",
   "execution_count": 4,
   "metadata": {},
   "outputs": [],
   "source": [
    "from sklearn.linear_model import LogisticRegression\n",
    "from sklearn.svm import SVC\n",
    "from sklearn.naive_bayes import GaussianNB\n",
    "from sklearn.naive_bayes import MultinomialNB\n",
    "from sklearn.linear_model import SGDClassifier\n",
    "from sklearn.neighbors import KNeighborsClassifier\n",
    "from sklearn.tree import DecisionTreeClassifier\n",
    "from sklearn.ensemble import RandomForestClassifier\n",
    "from sklearn.ensemble import GradientBoostingClassifier\n",
    "from lightgbm import LGBMClassifier\n",
    "from xgboost.sklearn import XGBClassifier"
   ]
  },
  {
   "cell_type": "code",
   "execution_count": 5,
   "metadata": {},
   "outputs": [],
   "source": [
    "#We need to increase the categorization accuracy."
   ]
  },
  {
   "cell_type": "code",
   "execution_count": 6,
   "metadata": {},
   "outputs": [],
   "source": [
    "df_train = pd.read_csv(r\"./ift3395-6390-weatherevents/train.csv\")"
   ]
  },
  {
   "cell_type": "code",
   "execution_count": 7,
   "metadata": {},
   "outputs": [],
   "source": [
    "submit_df = pd.read_csv(r\"./ift3395-6390-weatherevents/test.csv\")"
   ]
  },
  {
   "cell_type": "code",
   "execution_count": 8,
   "metadata": {},
   "outputs": [
    {
     "data": {
      "text/html": [
       "<div>\n",
       "<style scoped>\n",
       "    .dataframe tbody tr th:only-of-type {\n",
       "        vertical-align: middle;\n",
       "    }\n",
       "\n",
       "    .dataframe tbody tr th {\n",
       "        vertical-align: top;\n",
       "    }\n",
       "\n",
       "    .dataframe thead th {\n",
       "        text-align: right;\n",
       "    }\n",
       "</style>\n",
       "<table border=\"1\" class=\"dataframe\">\n",
       "  <thead>\n",
       "    <tr style=\"text-align: right;\">\n",
       "      <th></th>\n",
       "      <th>S.No</th>\n",
       "      <th>lat</th>\n",
       "      <th>lon</th>\n",
       "      <th>TMQ</th>\n",
       "      <th>U850</th>\n",
       "      <th>V850</th>\n",
       "      <th>UBOT</th>\n",
       "      <th>VBOT</th>\n",
       "      <th>QREFHT</th>\n",
       "      <th>PS</th>\n",
       "      <th>...</th>\n",
       "      <th>T200</th>\n",
       "      <th>T500</th>\n",
       "      <th>PRECT</th>\n",
       "      <th>TS</th>\n",
       "      <th>TREFHT</th>\n",
       "      <th>Z1000</th>\n",
       "      <th>Z200</th>\n",
       "      <th>ZBOT</th>\n",
       "      <th>time</th>\n",
       "      <th>LABELS</th>\n",
       "    </tr>\n",
       "  </thead>\n",
       "  <tbody>\n",
       "    <tr>\n",
       "      <th>0</th>\n",
       "      <td>0</td>\n",
       "      <td>-24.758801</td>\n",
       "      <td>242.1875</td>\n",
       "      <td>16.019615</td>\n",
       "      <td>-4.391696</td>\n",
       "      <td>4.777769</td>\n",
       "      <td>-6.388222</td>\n",
       "      <td>7.725320</td>\n",
       "      <td>0.010277</td>\n",
       "      <td>102326.2344</td>\n",
       "      <td>...</td>\n",
       "      <td>221.594223</td>\n",
       "      <td>261.823212</td>\n",
       "      <td>6.660000e-09</td>\n",
       "      <td>295.622253</td>\n",
       "      <td>293.301514</td>\n",
       "      <td>197.698624</td>\n",
       "      <td>12234.78809</td>\n",
       "      <td>64.372635</td>\n",
       "      <td>20030804</td>\n",
       "      <td>0</td>\n",
       "    </tr>\n",
       "    <tr>\n",
       "      <th>1</th>\n",
       "      <td>1</td>\n",
       "      <td>23.820078</td>\n",
       "      <td>277.8125</td>\n",
       "      <td>47.802036</td>\n",
       "      <td>8.623652</td>\n",
       "      <td>9.308566</td>\n",
       "      <td>4.596105</td>\n",
       "      <td>9.938286</td>\n",
       "      <td>0.018531</td>\n",
       "      <td>100803.1094</td>\n",
       "      <td>...</td>\n",
       "      <td>220.343719</td>\n",
       "      <td>269.106720</td>\n",
       "      <td>3.670000e-16</td>\n",
       "      <td>302.496826</td>\n",
       "      <td>302.654083</td>\n",
       "      <td>71.571518</td>\n",
       "      <td>12463.97266</td>\n",
       "      <td>66.834389</td>\n",
       "      <td>20071006</td>\n",
       "      <td>1</td>\n",
       "    </tr>\n",
       "    <tr>\n",
       "      <th>2</th>\n",
       "      <td>2</td>\n",
       "      <td>23.820078</td>\n",
       "      <td>276.8750</td>\n",
       "      <td>11.556691</td>\n",
       "      <td>-2.483993</td>\n",
       "      <td>-6.009627</td>\n",
       "      <td>-3.503036</td>\n",
       "      <td>-5.921963</td>\n",
       "      <td>0.007468</td>\n",
       "      <td>101885.3906</td>\n",
       "      <td>...</td>\n",
       "      <td>215.933487</td>\n",
       "      <td>259.610718</td>\n",
       "      <td>0.000000e+00</td>\n",
       "      <td>299.854919</td>\n",
       "      <td>293.339996</td>\n",
       "      <td>160.414246</td>\n",
       "      <td>12099.36133</td>\n",
       "      <td>64.209663</td>\n",
       "      <td>20020331</td>\n",
       "      <td>0</td>\n",
       "    </tr>\n",
       "    <tr>\n",
       "      <th>3</th>\n",
       "      <td>3</td>\n",
       "      <td>13.494133</td>\n",
       "      <td>253.1250</td>\n",
       "      <td>53.186630</td>\n",
       "      <td>0.150933</td>\n",
       "      <td>-1.319407</td>\n",
       "      <td>3.757741</td>\n",
       "      <td>-2.172120</td>\n",
       "      <td>0.018809</td>\n",
       "      <td>100824.6328</td>\n",
       "      <td>...</td>\n",
       "      <td>218.457672</td>\n",
       "      <td>267.374329</td>\n",
       "      <td>9.800000e-08</td>\n",
       "      <td>301.606934</td>\n",
       "      <td>299.973450</td>\n",
       "      <td>72.840614</td>\n",
       "      <td>12379.26855</td>\n",
       "      <td>66.243294</td>\n",
       "      <td>20000906</td>\n",
       "      <td>0</td>\n",
       "    </tr>\n",
       "    <tr>\n",
       "      <th>4</th>\n",
       "      <td>4</td>\n",
       "      <td>-24.524120</td>\n",
       "      <td>241.2500</td>\n",
       "      <td>23.353998</td>\n",
       "      <td>-7.467506</td>\n",
       "      <td>-5.113565</td>\n",
       "      <td>-9.545109</td>\n",
       "      <td>-4.691221</td>\n",
       "      <td>0.011672</td>\n",
       "      <td>102553.8984</td>\n",
       "      <td>...</td>\n",
       "      <td>214.316605</td>\n",
       "      <td>263.575409</td>\n",
       "      <td>6.410000e-09</td>\n",
       "      <td>295.819488</td>\n",
       "      <td>295.101257</td>\n",
       "      <td>218.449570</td>\n",
       "      <td>12261.22656</td>\n",
       "      <td>64.876427</td>\n",
       "      <td>20000906</td>\n",
       "      <td>0</td>\n",
       "    </tr>\n",
       "  </tbody>\n",
       "</table>\n",
       "<p>5 rows × 21 columns</p>\n",
       "</div>"
      ],
      "text/plain": [
       "   S.No        lat       lon        TMQ      U850      V850      UBOT  \\\n",
       "0     0 -24.758801  242.1875  16.019615 -4.391696  4.777769 -6.388222   \n",
       "1     1  23.820078  277.8125  47.802036  8.623652  9.308566  4.596105   \n",
       "2     2  23.820078  276.8750  11.556691 -2.483993 -6.009627 -3.503036   \n",
       "3     3  13.494133  253.1250  53.186630  0.150933 -1.319407  3.757741   \n",
       "4     4 -24.524120  241.2500  23.353998 -7.467506 -5.113565 -9.545109   \n",
       "\n",
       "       VBOT    QREFHT           PS  ...        T200        T500         PRECT  \\\n",
       "0  7.725320  0.010277  102326.2344  ...  221.594223  261.823212  6.660000e-09   \n",
       "1  9.938286  0.018531  100803.1094  ...  220.343719  269.106720  3.670000e-16   \n",
       "2 -5.921963  0.007468  101885.3906  ...  215.933487  259.610718  0.000000e+00   \n",
       "3 -2.172120  0.018809  100824.6328  ...  218.457672  267.374329  9.800000e-08   \n",
       "4 -4.691221  0.011672  102553.8984  ...  214.316605  263.575409  6.410000e-09   \n",
       "\n",
       "           TS      TREFHT       Z1000         Z200       ZBOT      time  \\\n",
       "0  295.622253  293.301514  197.698624  12234.78809  64.372635  20030804   \n",
       "1  302.496826  302.654083   71.571518  12463.97266  66.834389  20071006   \n",
       "2  299.854919  293.339996  160.414246  12099.36133  64.209663  20020331   \n",
       "3  301.606934  299.973450   72.840614  12379.26855  66.243294  20000906   \n",
       "4  295.819488  295.101257  218.449570  12261.22656  64.876427  20000906   \n",
       "\n",
       "   LABELS  \n",
       "0       0  \n",
       "1       1  \n",
       "2       0  \n",
       "3       0  \n",
       "4       0  \n",
       "\n",
       "[5 rows x 21 columns]"
      ]
     },
     "execution_count": 8,
     "metadata": {},
     "output_type": "execute_result"
    }
   ],
   "source": [
    "df_train.head()"
   ]
  },
  {
   "cell_type": "code",
   "execution_count": 9,
   "metadata": {},
   "outputs": [],
   "source": [
    "def df_year_handler(df_train):\n",
    "    #df_train is the train df loaded from our csv file\n",
    "    #labels are not dealt with here, so keep them in a separate column before calling this\n",
    "    #df_train2 = df_train.drop(columns=[\"S.No\"])\n",
    "    df_train2 = df_train\n",
    "    #df_train2 = df_train\n",
    "    #https://stackoverflow.com/questions/22005911/convert-columns-to-string-in-pandas\n",
    "    #converting to string for the split\n",
    "    df_train2[\"time\"] = df_train2[\"time\"].astype(str)\n",
    "    #expand will return multiple columns with the split strings\n",
    "    split_columns = df_train2[\"time\"].str.split(\"\",expand=True)\n",
    "    year = split_columns[1] + split_columns[2] + split_columns[3] +split_columns[4]\n",
    "    month = split_columns[5] + split_columns[6]\n",
    "    date = split_columns[7] + split_columns[8]\n",
    "    \n",
    "    #converting series to df and renaming the column so we dont end up with a bunch of columns named 0\n",
    "    #https://pandas.pydata.org/docs/reference/api/pandas.DataFrame.rename.html\n",
    "    year = pd.DataFrame(year)\n",
    "    month = pd.DataFrame(month)\n",
    "    date = pd.DataFrame(date)\n",
    "\n",
    "    year = year.rename(columns={0: \"year\"})\n",
    "    month = month.rename(columns={0: \"month\"})\n",
    "    date = date.rename(columns={0: \"date\"})\n",
    "\n",
    "    #we need to convert the strings back to integers\n",
    "    #https://datatofish.com/string-to-integer-dataframe/\n",
    "    year['year'] = year['year'].astype(int)\n",
    "    month['month'] = month['month'].astype(int)\n",
    "    date['date'] = date['date'].astype(int)\n",
    "    \n",
    "    #adding these back to the original df\n",
    "    df = pd.concat([df_train2, year, month, date], axis = 1)\n",
    "    df = df.drop(columns=[\"time\"])\n",
    "    #df.head()\n",
    "    \n",
    "    return df"
   ]
  },
  {
   "cell_type": "code",
   "execution_count": 10,
   "metadata": {},
   "outputs": [
    {
     "data": {
      "text/html": [
       "<div>\n",
       "<style scoped>\n",
       "    .dataframe tbody tr th:only-of-type {\n",
       "        vertical-align: middle;\n",
       "    }\n",
       "\n",
       "    .dataframe tbody tr th {\n",
       "        vertical-align: top;\n",
       "    }\n",
       "\n",
       "    .dataframe thead th {\n",
       "        text-align: right;\n",
       "    }\n",
       "</style>\n",
       "<table border=\"1\" class=\"dataframe\">\n",
       "  <thead>\n",
       "    <tr style=\"text-align: right;\">\n",
       "      <th></th>\n",
       "      <th>S.No</th>\n",
       "      <th>lat</th>\n",
       "      <th>lon</th>\n",
       "      <th>TMQ</th>\n",
       "      <th>U850</th>\n",
       "      <th>V850</th>\n",
       "      <th>UBOT</th>\n",
       "      <th>VBOT</th>\n",
       "      <th>QREFHT</th>\n",
       "      <th>PS</th>\n",
       "      <th>...</th>\n",
       "      <th>T200</th>\n",
       "      <th>T500</th>\n",
       "      <th>PRECT</th>\n",
       "      <th>TS</th>\n",
       "      <th>TREFHT</th>\n",
       "      <th>Z1000</th>\n",
       "      <th>Z200</th>\n",
       "      <th>ZBOT</th>\n",
       "      <th>time</th>\n",
       "      <th>LABELS</th>\n",
       "    </tr>\n",
       "  </thead>\n",
       "  <tbody>\n",
       "    <tr>\n",
       "      <th>0</th>\n",
       "      <td>0</td>\n",
       "      <td>-24.758801</td>\n",
       "      <td>242.1875</td>\n",
       "      <td>16.019615</td>\n",
       "      <td>-4.391696</td>\n",
       "      <td>4.777769</td>\n",
       "      <td>-6.388222</td>\n",
       "      <td>7.725320</td>\n",
       "      <td>0.010277</td>\n",
       "      <td>102326.2344</td>\n",
       "      <td>...</td>\n",
       "      <td>221.594223</td>\n",
       "      <td>261.823212</td>\n",
       "      <td>6.660000e-09</td>\n",
       "      <td>295.622253</td>\n",
       "      <td>293.301514</td>\n",
       "      <td>197.698624</td>\n",
       "      <td>12234.78809</td>\n",
       "      <td>64.372635</td>\n",
       "      <td>20030804</td>\n",
       "      <td>0</td>\n",
       "    </tr>\n",
       "    <tr>\n",
       "      <th>1</th>\n",
       "      <td>1</td>\n",
       "      <td>23.820078</td>\n",
       "      <td>277.8125</td>\n",
       "      <td>47.802036</td>\n",
       "      <td>8.623652</td>\n",
       "      <td>9.308566</td>\n",
       "      <td>4.596105</td>\n",
       "      <td>9.938286</td>\n",
       "      <td>0.018531</td>\n",
       "      <td>100803.1094</td>\n",
       "      <td>...</td>\n",
       "      <td>220.343719</td>\n",
       "      <td>269.106720</td>\n",
       "      <td>3.670000e-16</td>\n",
       "      <td>302.496826</td>\n",
       "      <td>302.654083</td>\n",
       "      <td>71.571518</td>\n",
       "      <td>12463.97266</td>\n",
       "      <td>66.834389</td>\n",
       "      <td>20071006</td>\n",
       "      <td>1</td>\n",
       "    </tr>\n",
       "    <tr>\n",
       "      <th>2</th>\n",
       "      <td>2</td>\n",
       "      <td>23.820078</td>\n",
       "      <td>276.8750</td>\n",
       "      <td>11.556691</td>\n",
       "      <td>-2.483993</td>\n",
       "      <td>-6.009627</td>\n",
       "      <td>-3.503036</td>\n",
       "      <td>-5.921963</td>\n",
       "      <td>0.007468</td>\n",
       "      <td>101885.3906</td>\n",
       "      <td>...</td>\n",
       "      <td>215.933487</td>\n",
       "      <td>259.610718</td>\n",
       "      <td>0.000000e+00</td>\n",
       "      <td>299.854919</td>\n",
       "      <td>293.339996</td>\n",
       "      <td>160.414246</td>\n",
       "      <td>12099.36133</td>\n",
       "      <td>64.209663</td>\n",
       "      <td>20020331</td>\n",
       "      <td>0</td>\n",
       "    </tr>\n",
       "    <tr>\n",
       "      <th>3</th>\n",
       "      <td>3</td>\n",
       "      <td>13.494133</td>\n",
       "      <td>253.1250</td>\n",
       "      <td>53.186630</td>\n",
       "      <td>0.150933</td>\n",
       "      <td>-1.319407</td>\n",
       "      <td>3.757741</td>\n",
       "      <td>-2.172120</td>\n",
       "      <td>0.018809</td>\n",
       "      <td>100824.6328</td>\n",
       "      <td>...</td>\n",
       "      <td>218.457672</td>\n",
       "      <td>267.374329</td>\n",
       "      <td>9.800000e-08</td>\n",
       "      <td>301.606934</td>\n",
       "      <td>299.973450</td>\n",
       "      <td>72.840614</td>\n",
       "      <td>12379.26855</td>\n",
       "      <td>66.243294</td>\n",
       "      <td>20000906</td>\n",
       "      <td>0</td>\n",
       "    </tr>\n",
       "    <tr>\n",
       "      <th>4</th>\n",
       "      <td>4</td>\n",
       "      <td>-24.524120</td>\n",
       "      <td>241.2500</td>\n",
       "      <td>23.353998</td>\n",
       "      <td>-7.467506</td>\n",
       "      <td>-5.113565</td>\n",
       "      <td>-9.545109</td>\n",
       "      <td>-4.691221</td>\n",
       "      <td>0.011672</td>\n",
       "      <td>102553.8984</td>\n",
       "      <td>...</td>\n",
       "      <td>214.316605</td>\n",
       "      <td>263.575409</td>\n",
       "      <td>6.410000e-09</td>\n",
       "      <td>295.819488</td>\n",
       "      <td>295.101257</td>\n",
       "      <td>218.449570</td>\n",
       "      <td>12261.22656</td>\n",
       "      <td>64.876427</td>\n",
       "      <td>20000906</td>\n",
       "      <td>0</td>\n",
       "    </tr>\n",
       "    <tr>\n",
       "      <th>...</th>\n",
       "      <td>...</td>\n",
       "      <td>...</td>\n",
       "      <td>...</td>\n",
       "      <td>...</td>\n",
       "      <td>...</td>\n",
       "      <td>...</td>\n",
       "      <td>...</td>\n",
       "      <td>...</td>\n",
       "      <td>...</td>\n",
       "      <td>...</td>\n",
       "      <td>...</td>\n",
       "      <td>...</td>\n",
       "      <td>...</td>\n",
       "      <td>...</td>\n",
       "      <td>...</td>\n",
       "      <td>...</td>\n",
       "      <td>...</td>\n",
       "      <td>...</td>\n",
       "      <td>...</td>\n",
       "      <td>...</td>\n",
       "      <td>...</td>\n",
       "    </tr>\n",
       "    <tr>\n",
       "      <th>47755</th>\n",
       "      <td>47755</td>\n",
       "      <td>-30.625815</td>\n",
       "      <td>353.4375</td>\n",
       "      <td>14.680613</td>\n",
       "      <td>3.153518</td>\n",
       "      <td>4.250256</td>\n",
       "      <td>-0.406992</td>\n",
       "      <td>3.480553</td>\n",
       "      <td>0.008333</td>\n",
       "      <td>102109.4844</td>\n",
       "      <td>...</td>\n",
       "      <td>213.804184</td>\n",
       "      <td>259.846222</td>\n",
       "      <td>2.470000e-09</td>\n",
       "      <td>291.791870</td>\n",
       "      <td>290.141663</td>\n",
       "      <td>177.677322</td>\n",
       "      <td>12058.16016</td>\n",
       "      <td>63.678669</td>\n",
       "      <td>20001106</td>\n",
       "      <td>2</td>\n",
       "    </tr>\n",
       "    <tr>\n",
       "      <th>47756</th>\n",
       "      <td>47756</td>\n",
       "      <td>-24.993481</td>\n",
       "      <td>242.1875</td>\n",
       "      <td>29.540585</td>\n",
       "      <td>9.181329</td>\n",
       "      <td>-0.369805</td>\n",
       "      <td>7.125068</td>\n",
       "      <td>-5.466469</td>\n",
       "      <td>0.013645</td>\n",
       "      <td>101734.2813</td>\n",
       "      <td>...</td>\n",
       "      <td>213.867416</td>\n",
       "      <td>263.996307</td>\n",
       "      <td>2.620000e-09</td>\n",
       "      <td>296.322327</td>\n",
       "      <td>296.220642</td>\n",
       "      <td>150.108871</td>\n",
       "      <td>12272.25781</td>\n",
       "      <td>65.238327</td>\n",
       "      <td>20010712</td>\n",
       "      <td>2</td>\n",
       "    </tr>\n",
       "    <tr>\n",
       "      <th>47757</th>\n",
       "      <td>47757</td>\n",
       "      <td>-30.625815</td>\n",
       "      <td>353.4375</td>\n",
       "      <td>20.991110</td>\n",
       "      <td>7.709649</td>\n",
       "      <td>-6.284292</td>\n",
       "      <td>3.702500</td>\n",
       "      <td>-7.359541</td>\n",
       "      <td>0.010529</td>\n",
       "      <td>101800.8516</td>\n",
       "      <td>...</td>\n",
       "      <td>216.394852</td>\n",
       "      <td>264.192566</td>\n",
       "      <td>4.240000e-09</td>\n",
       "      <td>290.757996</td>\n",
       "      <td>290.736847</td>\n",
       "      <td>152.666443</td>\n",
       "      <td>12232.26953</td>\n",
       "      <td>63.929737</td>\n",
       "      <td>20011029</td>\n",
       "      <td>0</td>\n",
       "    </tr>\n",
       "    <tr>\n",
       "      <th>47758</th>\n",
       "      <td>47758</td>\n",
       "      <td>23.585398</td>\n",
       "      <td>276.5625</td>\n",
       "      <td>45.689816</td>\n",
       "      <td>-3.018448</td>\n",
       "      <td>0.280351</td>\n",
       "      <td>-6.938124</td>\n",
       "      <td>0.681055</td>\n",
       "      <td>0.020653</td>\n",
       "      <td>101641.2266</td>\n",
       "      <td>...</td>\n",
       "      <td>217.026199</td>\n",
       "      <td>265.778900</td>\n",
       "      <td>8.620000e-08</td>\n",
       "      <td>302.751862</td>\n",
       "      <td>301.542786</td>\n",
       "      <td>145.255554</td>\n",
       "      <td>12404.29297</td>\n",
       "      <td>66.656548</td>\n",
       "      <td>20020712</td>\n",
       "      <td>0</td>\n",
       "    </tr>\n",
       "    <tr>\n",
       "      <th>47759</th>\n",
       "      <td>47759</td>\n",
       "      <td>24.054759</td>\n",
       "      <td>276.8750</td>\n",
       "      <td>49.550251</td>\n",
       "      <td>-2.582931</td>\n",
       "      <td>-0.844238</td>\n",
       "      <td>-6.318487</td>\n",
       "      <td>-1.986166</td>\n",
       "      <td>0.017553</td>\n",
       "      <td>101374.0859</td>\n",
       "      <td>...</td>\n",
       "      <td>217.422790</td>\n",
       "      <td>265.335571</td>\n",
       "      <td>2.270000e-08</td>\n",
       "      <td>301.325226</td>\n",
       "      <td>300.146851</td>\n",
       "      <td>121.040375</td>\n",
       "      <td>12352.48535</td>\n",
       "      <td>66.221062</td>\n",
       "      <td>20081012</td>\n",
       "      <td>0</td>\n",
       "    </tr>\n",
       "  </tbody>\n",
       "</table>\n",
       "<p>47760 rows × 21 columns</p>\n",
       "</div>"
      ],
      "text/plain": [
       "        S.No        lat       lon        TMQ      U850      V850      UBOT  \\\n",
       "0          0 -24.758801  242.1875  16.019615 -4.391696  4.777769 -6.388222   \n",
       "1          1  23.820078  277.8125  47.802036  8.623652  9.308566  4.596105   \n",
       "2          2  23.820078  276.8750  11.556691 -2.483993 -6.009627 -3.503036   \n",
       "3          3  13.494133  253.1250  53.186630  0.150933 -1.319407  3.757741   \n",
       "4          4 -24.524120  241.2500  23.353998 -7.467506 -5.113565 -9.545109   \n",
       "...      ...        ...       ...        ...       ...       ...       ...   \n",
       "47755  47755 -30.625815  353.4375  14.680613  3.153518  4.250256 -0.406992   \n",
       "47756  47756 -24.993481  242.1875  29.540585  9.181329 -0.369805  7.125068   \n",
       "47757  47757 -30.625815  353.4375  20.991110  7.709649 -6.284292  3.702500   \n",
       "47758  47758  23.585398  276.5625  45.689816 -3.018448  0.280351 -6.938124   \n",
       "47759  47759  24.054759  276.8750  49.550251 -2.582931 -0.844238 -6.318487   \n",
       "\n",
       "           VBOT    QREFHT           PS  ...        T200        T500  \\\n",
       "0      7.725320  0.010277  102326.2344  ...  221.594223  261.823212   \n",
       "1      9.938286  0.018531  100803.1094  ...  220.343719  269.106720   \n",
       "2     -5.921963  0.007468  101885.3906  ...  215.933487  259.610718   \n",
       "3     -2.172120  0.018809  100824.6328  ...  218.457672  267.374329   \n",
       "4     -4.691221  0.011672  102553.8984  ...  214.316605  263.575409   \n",
       "...         ...       ...          ...  ...         ...         ...   \n",
       "47755  3.480553  0.008333  102109.4844  ...  213.804184  259.846222   \n",
       "47756 -5.466469  0.013645  101734.2813  ...  213.867416  263.996307   \n",
       "47757 -7.359541  0.010529  101800.8516  ...  216.394852  264.192566   \n",
       "47758  0.681055  0.020653  101641.2266  ...  217.026199  265.778900   \n",
       "47759 -1.986166  0.017553  101374.0859  ...  217.422790  265.335571   \n",
       "\n",
       "              PRECT          TS      TREFHT       Z1000         Z200  \\\n",
       "0      6.660000e-09  295.622253  293.301514  197.698624  12234.78809   \n",
       "1      3.670000e-16  302.496826  302.654083   71.571518  12463.97266   \n",
       "2      0.000000e+00  299.854919  293.339996  160.414246  12099.36133   \n",
       "3      9.800000e-08  301.606934  299.973450   72.840614  12379.26855   \n",
       "4      6.410000e-09  295.819488  295.101257  218.449570  12261.22656   \n",
       "...             ...         ...         ...         ...          ...   \n",
       "47755  2.470000e-09  291.791870  290.141663  177.677322  12058.16016   \n",
       "47756  2.620000e-09  296.322327  296.220642  150.108871  12272.25781   \n",
       "47757  4.240000e-09  290.757996  290.736847  152.666443  12232.26953   \n",
       "47758  8.620000e-08  302.751862  301.542786  145.255554  12404.29297   \n",
       "47759  2.270000e-08  301.325226  300.146851  121.040375  12352.48535   \n",
       "\n",
       "            ZBOT      time  LABELS  \n",
       "0      64.372635  20030804       0  \n",
       "1      66.834389  20071006       1  \n",
       "2      64.209663  20020331       0  \n",
       "3      66.243294  20000906       0  \n",
       "4      64.876427  20000906       0  \n",
       "...          ...       ...     ...  \n",
       "47755  63.678669  20001106       2  \n",
       "47756  65.238327  20010712       2  \n",
       "47757  63.929737  20011029       0  \n",
       "47758  66.656548  20020712       0  \n",
       "47759  66.221062  20081012       0  \n",
       "\n",
       "[47760 rows x 21 columns]"
      ]
     },
     "execution_count": 10,
     "metadata": {},
     "output_type": "execute_result"
    }
   ],
   "source": [
    "df_train"
   ]
  },
  {
   "cell_type": "code",
   "execution_count": 11,
   "metadata": {},
   "outputs": [],
   "source": [
    "df_train = df_year_handler(df_train)"
   ]
  },
  {
   "cell_type": "code",
   "execution_count": 12,
   "metadata": {},
   "outputs": [],
   "source": [
    "labels = df_train[[\"LABELS\"]]"
   ]
  },
  {
   "cell_type": "code",
   "execution_count": 13,
   "metadata": {},
   "outputs": [],
   "source": [
    "df_train = df_train.drop(columns=[\"S.No\",\"LABELS\"])"
   ]
  },
  {
   "cell_type": "code",
   "execution_count": 14,
   "metadata": {},
   "outputs": [],
   "source": [
    "df_train = pd.concat([df_train, labels],axis=1)"
   ]
  },
  {
   "cell_type": "code",
   "execution_count": 15,
   "metadata": {},
   "outputs": [
    {
     "data": {
      "text/html": [
       "<div>\n",
       "<style scoped>\n",
       "    .dataframe tbody tr th:only-of-type {\n",
       "        vertical-align: middle;\n",
       "    }\n",
       "\n",
       "    .dataframe tbody tr th {\n",
       "        vertical-align: top;\n",
       "    }\n",
       "\n",
       "    .dataframe thead th {\n",
       "        text-align: right;\n",
       "    }\n",
       "</style>\n",
       "<table border=\"1\" class=\"dataframe\">\n",
       "  <thead>\n",
       "    <tr style=\"text-align: right;\">\n",
       "      <th></th>\n",
       "      <th>lat</th>\n",
       "      <th>lon</th>\n",
       "      <th>TMQ</th>\n",
       "      <th>U850</th>\n",
       "      <th>V850</th>\n",
       "      <th>UBOT</th>\n",
       "      <th>VBOT</th>\n",
       "      <th>QREFHT</th>\n",
       "      <th>PS</th>\n",
       "      <th>PSL</th>\n",
       "      <th>...</th>\n",
       "      <th>PRECT</th>\n",
       "      <th>TS</th>\n",
       "      <th>TREFHT</th>\n",
       "      <th>Z1000</th>\n",
       "      <th>Z200</th>\n",
       "      <th>ZBOT</th>\n",
       "      <th>year</th>\n",
       "      <th>month</th>\n",
       "      <th>date</th>\n",
       "      <th>LABELS</th>\n",
       "    </tr>\n",
       "  </thead>\n",
       "  <tbody>\n",
       "    <tr>\n",
       "      <th>0</th>\n",
       "      <td>-24.758801</td>\n",
       "      <td>242.1875</td>\n",
       "      <td>16.019615</td>\n",
       "      <td>-4.391696</td>\n",
       "      <td>4.777769</td>\n",
       "      <td>-6.388222</td>\n",
       "      <td>7.725320</td>\n",
       "      <td>0.010277</td>\n",
       "      <td>102326.2344</td>\n",
       "      <td>102326.2344</td>\n",
       "      <td>...</td>\n",
       "      <td>6.660000e-09</td>\n",
       "      <td>295.622253</td>\n",
       "      <td>293.301514</td>\n",
       "      <td>197.698624</td>\n",
       "      <td>12234.78809</td>\n",
       "      <td>64.372635</td>\n",
       "      <td>2003</td>\n",
       "      <td>8</td>\n",
       "      <td>4</td>\n",
       "      <td>0</td>\n",
       "    </tr>\n",
       "    <tr>\n",
       "      <th>1</th>\n",
       "      <td>23.820078</td>\n",
       "      <td>277.8125</td>\n",
       "      <td>47.802036</td>\n",
       "      <td>8.623652</td>\n",
       "      <td>9.308566</td>\n",
       "      <td>4.596105</td>\n",
       "      <td>9.938286</td>\n",
       "      <td>0.018531</td>\n",
       "      <td>100803.1094</td>\n",
       "      <td>100803.1094</td>\n",
       "      <td>...</td>\n",
       "      <td>3.670000e-16</td>\n",
       "      <td>302.496826</td>\n",
       "      <td>302.654083</td>\n",
       "      <td>71.571518</td>\n",
       "      <td>12463.97266</td>\n",
       "      <td>66.834389</td>\n",
       "      <td>2007</td>\n",
       "      <td>10</td>\n",
       "      <td>6</td>\n",
       "      <td>1</td>\n",
       "    </tr>\n",
       "    <tr>\n",
       "      <th>2</th>\n",
       "      <td>23.820078</td>\n",
       "      <td>276.8750</td>\n",
       "      <td>11.556691</td>\n",
       "      <td>-2.483993</td>\n",
       "      <td>-6.009627</td>\n",
       "      <td>-3.503036</td>\n",
       "      <td>-5.921963</td>\n",
       "      <td>0.007468</td>\n",
       "      <td>101885.3906</td>\n",
       "      <td>101885.3906</td>\n",
       "      <td>...</td>\n",
       "      <td>0.000000e+00</td>\n",
       "      <td>299.854919</td>\n",
       "      <td>293.339996</td>\n",
       "      <td>160.414246</td>\n",
       "      <td>12099.36133</td>\n",
       "      <td>64.209663</td>\n",
       "      <td>2002</td>\n",
       "      <td>3</td>\n",
       "      <td>31</td>\n",
       "      <td>0</td>\n",
       "    </tr>\n",
       "    <tr>\n",
       "      <th>3</th>\n",
       "      <td>13.494133</td>\n",
       "      <td>253.1250</td>\n",
       "      <td>53.186630</td>\n",
       "      <td>0.150933</td>\n",
       "      <td>-1.319407</td>\n",
       "      <td>3.757741</td>\n",
       "      <td>-2.172120</td>\n",
       "      <td>0.018809</td>\n",
       "      <td>100824.6328</td>\n",
       "      <td>100824.6328</td>\n",
       "      <td>...</td>\n",
       "      <td>9.800000e-08</td>\n",
       "      <td>301.606934</td>\n",
       "      <td>299.973450</td>\n",
       "      <td>72.840614</td>\n",
       "      <td>12379.26855</td>\n",
       "      <td>66.243294</td>\n",
       "      <td>2000</td>\n",
       "      <td>9</td>\n",
       "      <td>6</td>\n",
       "      <td>0</td>\n",
       "    </tr>\n",
       "    <tr>\n",
       "      <th>4</th>\n",
       "      <td>-24.524120</td>\n",
       "      <td>241.2500</td>\n",
       "      <td>23.353998</td>\n",
       "      <td>-7.467506</td>\n",
       "      <td>-5.113565</td>\n",
       "      <td>-9.545109</td>\n",
       "      <td>-4.691221</td>\n",
       "      <td>0.011672</td>\n",
       "      <td>102553.8984</td>\n",
       "      <td>102553.8984</td>\n",
       "      <td>...</td>\n",
       "      <td>6.410000e-09</td>\n",
       "      <td>295.819488</td>\n",
       "      <td>295.101257</td>\n",
       "      <td>218.449570</td>\n",
       "      <td>12261.22656</td>\n",
       "      <td>64.876427</td>\n",
       "      <td>2000</td>\n",
       "      <td>9</td>\n",
       "      <td>6</td>\n",
       "      <td>0</td>\n",
       "    </tr>\n",
       "    <tr>\n",
       "      <th>...</th>\n",
       "      <td>...</td>\n",
       "      <td>...</td>\n",
       "      <td>...</td>\n",
       "      <td>...</td>\n",
       "      <td>...</td>\n",
       "      <td>...</td>\n",
       "      <td>...</td>\n",
       "      <td>...</td>\n",
       "      <td>...</td>\n",
       "      <td>...</td>\n",
       "      <td>...</td>\n",
       "      <td>...</td>\n",
       "      <td>...</td>\n",
       "      <td>...</td>\n",
       "      <td>...</td>\n",
       "      <td>...</td>\n",
       "      <td>...</td>\n",
       "      <td>...</td>\n",
       "      <td>...</td>\n",
       "      <td>...</td>\n",
       "      <td>...</td>\n",
       "    </tr>\n",
       "    <tr>\n",
       "      <th>47755</th>\n",
       "      <td>-30.625815</td>\n",
       "      <td>353.4375</td>\n",
       "      <td>14.680613</td>\n",
       "      <td>3.153518</td>\n",
       "      <td>4.250256</td>\n",
       "      <td>-0.406992</td>\n",
       "      <td>3.480553</td>\n",
       "      <td>0.008333</td>\n",
       "      <td>102109.4844</td>\n",
       "      <td>102109.4844</td>\n",
       "      <td>...</td>\n",
       "      <td>2.470000e-09</td>\n",
       "      <td>291.791870</td>\n",
       "      <td>290.141663</td>\n",
       "      <td>177.677322</td>\n",
       "      <td>12058.16016</td>\n",
       "      <td>63.678669</td>\n",
       "      <td>2000</td>\n",
       "      <td>11</td>\n",
       "      <td>6</td>\n",
       "      <td>2</td>\n",
       "    </tr>\n",
       "    <tr>\n",
       "      <th>47756</th>\n",
       "      <td>-24.993481</td>\n",
       "      <td>242.1875</td>\n",
       "      <td>29.540585</td>\n",
       "      <td>9.181329</td>\n",
       "      <td>-0.369805</td>\n",
       "      <td>7.125068</td>\n",
       "      <td>-5.466469</td>\n",
       "      <td>0.013645</td>\n",
       "      <td>101734.2813</td>\n",
       "      <td>101734.2813</td>\n",
       "      <td>...</td>\n",
       "      <td>2.620000e-09</td>\n",
       "      <td>296.322327</td>\n",
       "      <td>296.220642</td>\n",
       "      <td>150.108871</td>\n",
       "      <td>12272.25781</td>\n",
       "      <td>65.238327</td>\n",
       "      <td>2001</td>\n",
       "      <td>7</td>\n",
       "      <td>12</td>\n",
       "      <td>2</td>\n",
       "    </tr>\n",
       "    <tr>\n",
       "      <th>47757</th>\n",
       "      <td>-30.625815</td>\n",
       "      <td>353.4375</td>\n",
       "      <td>20.991110</td>\n",
       "      <td>7.709649</td>\n",
       "      <td>-6.284292</td>\n",
       "      <td>3.702500</td>\n",
       "      <td>-7.359541</td>\n",
       "      <td>0.010529</td>\n",
       "      <td>101800.8516</td>\n",
       "      <td>101800.8516</td>\n",
       "      <td>...</td>\n",
       "      <td>4.240000e-09</td>\n",
       "      <td>290.757996</td>\n",
       "      <td>290.736847</td>\n",
       "      <td>152.666443</td>\n",
       "      <td>12232.26953</td>\n",
       "      <td>63.929737</td>\n",
       "      <td>2001</td>\n",
       "      <td>10</td>\n",
       "      <td>29</td>\n",
       "      <td>0</td>\n",
       "    </tr>\n",
       "    <tr>\n",
       "      <th>47758</th>\n",
       "      <td>23.585398</td>\n",
       "      <td>276.5625</td>\n",
       "      <td>45.689816</td>\n",
       "      <td>-3.018448</td>\n",
       "      <td>0.280351</td>\n",
       "      <td>-6.938124</td>\n",
       "      <td>0.681055</td>\n",
       "      <td>0.020653</td>\n",
       "      <td>101641.2266</td>\n",
       "      <td>101641.2266</td>\n",
       "      <td>...</td>\n",
       "      <td>8.620000e-08</td>\n",
       "      <td>302.751862</td>\n",
       "      <td>301.542786</td>\n",
       "      <td>145.255554</td>\n",
       "      <td>12404.29297</td>\n",
       "      <td>66.656548</td>\n",
       "      <td>2002</td>\n",
       "      <td>7</td>\n",
       "      <td>12</td>\n",
       "      <td>0</td>\n",
       "    </tr>\n",
       "    <tr>\n",
       "      <th>47759</th>\n",
       "      <td>24.054759</td>\n",
       "      <td>276.8750</td>\n",
       "      <td>49.550251</td>\n",
       "      <td>-2.582931</td>\n",
       "      <td>-0.844238</td>\n",
       "      <td>-6.318487</td>\n",
       "      <td>-1.986166</td>\n",
       "      <td>0.017553</td>\n",
       "      <td>101374.0859</td>\n",
       "      <td>101374.0859</td>\n",
       "      <td>...</td>\n",
       "      <td>2.270000e-08</td>\n",
       "      <td>301.325226</td>\n",
       "      <td>300.146851</td>\n",
       "      <td>121.040375</td>\n",
       "      <td>12352.48535</td>\n",
       "      <td>66.221062</td>\n",
       "      <td>2008</td>\n",
       "      <td>10</td>\n",
       "      <td>12</td>\n",
       "      <td>0</td>\n",
       "    </tr>\n",
       "  </tbody>\n",
       "</table>\n",
       "<p>47760 rows × 22 columns</p>\n",
       "</div>"
      ],
      "text/plain": [
       "             lat       lon        TMQ      U850      V850      UBOT      VBOT  \\\n",
       "0     -24.758801  242.1875  16.019615 -4.391696  4.777769 -6.388222  7.725320   \n",
       "1      23.820078  277.8125  47.802036  8.623652  9.308566  4.596105  9.938286   \n",
       "2      23.820078  276.8750  11.556691 -2.483993 -6.009627 -3.503036 -5.921963   \n",
       "3      13.494133  253.1250  53.186630  0.150933 -1.319407  3.757741 -2.172120   \n",
       "4     -24.524120  241.2500  23.353998 -7.467506 -5.113565 -9.545109 -4.691221   \n",
       "...          ...       ...        ...       ...       ...       ...       ...   \n",
       "47755 -30.625815  353.4375  14.680613  3.153518  4.250256 -0.406992  3.480553   \n",
       "47756 -24.993481  242.1875  29.540585  9.181329 -0.369805  7.125068 -5.466469   \n",
       "47757 -30.625815  353.4375  20.991110  7.709649 -6.284292  3.702500 -7.359541   \n",
       "47758  23.585398  276.5625  45.689816 -3.018448  0.280351 -6.938124  0.681055   \n",
       "47759  24.054759  276.8750  49.550251 -2.582931 -0.844238 -6.318487 -1.986166   \n",
       "\n",
       "         QREFHT           PS          PSL  ...         PRECT          TS  \\\n",
       "0      0.010277  102326.2344  102326.2344  ...  6.660000e-09  295.622253   \n",
       "1      0.018531  100803.1094  100803.1094  ...  3.670000e-16  302.496826   \n",
       "2      0.007468  101885.3906  101885.3906  ...  0.000000e+00  299.854919   \n",
       "3      0.018809  100824.6328  100824.6328  ...  9.800000e-08  301.606934   \n",
       "4      0.011672  102553.8984  102553.8984  ...  6.410000e-09  295.819488   \n",
       "...         ...          ...          ...  ...           ...         ...   \n",
       "47755  0.008333  102109.4844  102109.4844  ...  2.470000e-09  291.791870   \n",
       "47756  0.013645  101734.2813  101734.2813  ...  2.620000e-09  296.322327   \n",
       "47757  0.010529  101800.8516  101800.8516  ...  4.240000e-09  290.757996   \n",
       "47758  0.020653  101641.2266  101641.2266  ...  8.620000e-08  302.751862   \n",
       "47759  0.017553  101374.0859  101374.0859  ...  2.270000e-08  301.325226   \n",
       "\n",
       "           TREFHT       Z1000         Z200       ZBOT  year  month  date  \\\n",
       "0      293.301514  197.698624  12234.78809  64.372635  2003      8     4   \n",
       "1      302.654083   71.571518  12463.97266  66.834389  2007     10     6   \n",
       "2      293.339996  160.414246  12099.36133  64.209663  2002      3    31   \n",
       "3      299.973450   72.840614  12379.26855  66.243294  2000      9     6   \n",
       "4      295.101257  218.449570  12261.22656  64.876427  2000      9     6   \n",
       "...           ...         ...          ...        ...   ...    ...   ...   \n",
       "47755  290.141663  177.677322  12058.16016  63.678669  2000     11     6   \n",
       "47756  296.220642  150.108871  12272.25781  65.238327  2001      7    12   \n",
       "47757  290.736847  152.666443  12232.26953  63.929737  2001     10    29   \n",
       "47758  301.542786  145.255554  12404.29297  66.656548  2002      7    12   \n",
       "47759  300.146851  121.040375  12352.48535  66.221062  2008     10    12   \n",
       "\n",
       "       LABELS  \n",
       "0           0  \n",
       "1           1  \n",
       "2           0  \n",
       "3           0  \n",
       "4           0  \n",
       "...       ...  \n",
       "47755       2  \n",
       "47756       2  \n",
       "47757       0  \n",
       "47758       0  \n",
       "47759       0  \n",
       "\n",
       "[47760 rows x 22 columns]"
      ]
     },
     "execution_count": 15,
     "metadata": {},
     "output_type": "execute_result"
    }
   ],
   "source": [
    "df_train"
   ]
  },
  {
   "cell_type": "code",
   "execution_count": 17,
   "metadata": {},
   "outputs": [],
   "source": [
    "latest_labels = df_train[[\"LABELS\"]]"
   ]
  },
  {
   "cell_type": "code",
   "execution_count": null,
   "metadata": {},
   "outputs": [],
   "source": []
  },
  {
   "cell_type": "code",
   "execution_count": 18,
   "metadata": {},
   "outputs": [],
   "source": [
    "def df_to_train_test_split(df):\n",
    "    #df is the normalized or standardized df\n",
    "    #labels are just the labels.\n",
    "#         So we need 6760 test exmaples, in 18:4:1 ratio roughly to match the train test.<br>\n",
    "#         So we need:<br>\n",
    "#         1s - 294<br>\n",
    "#         2s - 1176<br>\n",
    "#         0s - 5290<br>\n",
    "    data_with_labels = df.sample(frac=1).reset_index(drop=True)\n",
    "    \n",
    "    data_with_labels_0s = data_with_labels[data_with_labels[\"LABELS\"] == 0]\n",
    "    data_with_labels_1s = data_with_labels[data_with_labels[\"LABELS\"] == 1]\n",
    "    data_with_labels_2s = data_with_labels[data_with_labels[\"LABELS\"] == 2]\n",
    "\n",
    "    data_1_test = data_with_labels_1s.iloc[0:294]\n",
    "    data_2_test = data_with_labels_2s.iloc[0:1176]\n",
    "    data_0_test = data_with_labels_0s.iloc[0:5290]\n",
    "\n",
    "    data_1_train = data_with_labels_1s.iloc[294:]\n",
    "    data_2_train = data_with_labels_2s.iloc[1176:]\n",
    "    data_0_train = data_with_labels_0s.iloc[5290:]\n",
    "\n",
    "    test = pd.concat([data_1_test, data_2_test, data_0_test])\n",
    "    #Houston, we have a problem, we need to shuffle the indices, but pandas has us covered\n",
    "    #https://stackoverflow.com/questions/29576430/shuffle-dataframe-rows\n",
    "    train = pd.concat([data_1_train, data_2_train, data_0_train])\n",
    "\n",
    "    #Shuffling:\n",
    "    #df = df.sample(frac=1).reset_index(drop=True)\n",
    "    test = test.sample(frac=1).reset_index(drop=True)\n",
    "    train = train.sample(frac=1).reset_index(drop=True)\n",
    "\n",
    "    #Finally, we have our train and test sets.\n",
    "    #Let's try to follow this post: https://github.com/rahulrrai/multinomial-logistic-regression/blob/master/multinomial-logistic-regression.ipynb\n",
    "    train_np = train.to_numpy()\n",
    "    test_np = test.to_numpy()\n",
    "\n",
    "    #number of training examples\n",
    "    #this is 41000 in our case\n",
    "    num_of_train = train_np.shape[0]\n",
    "    num_of_test = test_np.shape[0]\n",
    "    #retaining just the features\n",
    "    X_train = train_np[:,:-1]\n",
    "    X_test = test_np[:,:-1]\n",
    "    ##As we are using vector implementation adding a column in X with all the value 1\n",
    "    # I'm guessing this is the bias term added to our train matrix itself\n",
    "#     X_train = np.hstack((np.ones((num_of_train,1)),X_train))\n",
    "#     X_test = np.hstack((np.ones((num_of_test,1)), X_test))\n",
    "    #output \n",
    "    y_train = train_np[:,-1:]\n",
    "    y_test = test_np[:,-1:]\n",
    "    #each individual entry in y is a numpy array, let's see if this works out.\n",
    "    \n",
    "    return X_train, X_test, y_train, y_test"
   ]
  },
  {
   "cell_type": "code",
   "execution_count": 19,
   "metadata": {},
   "outputs": [],
   "source": [
    "X_train, X_test, y_train, y_test = df_to_train_test_split(df_train)"
   ]
  },
  {
   "cell_type": "code",
   "execution_count": 20,
   "metadata": {},
   "outputs": [],
   "source": [
    "def standardizer_new(X_train):\n",
    "    df = pd.DataFrame(X_train)\n",
    "    #df = df.drop(columns=[0])\n",
    "    df = (df-df.mean())/df.std()\n",
    "    X_train = df.to_numpy()\n",
    "    #num_of_train = X_train.shape[0]\n",
    "    #X_train = np.hstack((np.ones((num_of_train,1)),X_train))\n",
    "    return X_train"
   ]
  },
  {
   "cell_type": "code",
   "execution_count": 21,
   "metadata": {},
   "outputs": [
    {
     "data": {
      "text/plain": [
       "array([[ 0.71719023, -0.38529306,  1.76324278, ...,  2.1027921 ,\n",
       "         0.08566519,  1.57947044],\n",
       "       [-0.79978435, -0.9640404 , -0.8908907 , ..., -1.72500093,\n",
       "         0.47311942, -0.41065309],\n",
       "       [-0.94328195, -0.65182144,  0.45692047, ..., -0.0845182 ,\n",
       "         0.08566519,  0.91609593],\n",
       "       ...,\n",
       "       [-1.20977748,  2.06676805, -1.16269733, ..., -0.35793199,\n",
       "         0.47311942,  0.36328384],\n",
       "       [ 0.70694041, -0.40813835,  1.81651321, ..., -0.35793199,\n",
       "         0.86057366,  1.46890802],\n",
       "       [ 0.71719023, -0.39290815,  1.11742826, ..., -0.0845182 ,\n",
       "         0.08566519,  0.91609593]])"
      ]
     },
     "execution_count": 21,
     "metadata": {},
     "output_type": "execute_result"
    }
   ],
   "source": [
    "X_train_std = standardizer_new(X_train)\n",
    "X_train_std"
   ]
  },
  {
   "cell_type": "code",
   "execution_count": 22,
   "metadata": {},
   "outputs": [],
   "source": [
    "y_train = y_train.astype(int)\n",
    "y_test = y_test.astype(int)"
   ]
  },
  {
   "cell_type": "code",
   "execution_count": 23,
   "metadata": {},
   "outputs": [],
   "source": [
    "X_test_std = standardizer_new(X_test)"
   ]
  },
  {
   "cell_type": "code",
   "execution_count": 24,
   "metadata": {},
   "outputs": [
    {
     "data": {
      "text/plain": [
       "(41000, 21)"
      ]
     },
     "execution_count": 24,
     "metadata": {},
     "output_type": "execute_result"
    }
   ],
   "source": [
    "X_train_std.shape"
   ]
  },
  {
   "cell_type": "code",
   "execution_count": 25,
   "metadata": {},
   "outputs": [
    {
     "data": {
      "text/plain": [
       "(6760, 21)"
      ]
     },
     "execution_count": 25,
     "metadata": {},
     "output_type": "execute_result"
    }
   ],
   "source": [
    "X_test_std.shape"
   ]
  },
  {
   "cell_type": "code",
   "execution_count": 26,
   "metadata": {},
   "outputs": [
    {
     "data": {
      "text/plain": [
       "(41000, 1)"
      ]
     },
     "execution_count": 26,
     "metadata": {},
     "output_type": "execute_result"
    }
   ],
   "source": [
    "y_train.shape"
   ]
  },
  {
   "cell_type": "code",
   "execution_count": 27,
   "metadata": {},
   "outputs": [
    {
     "data": {
      "text/plain": [
       "(array([0, 1, 2]), array([32245,  1708,  7047], dtype=int64))"
      ]
     },
     "execution_count": 27,
     "metadata": {},
     "output_type": "execute_result"
    }
   ],
   "source": [
    "np.unique(y_train, return_counts=True)"
   ]
  },
  {
   "cell_type": "code",
   "execution_count": 28,
   "metadata": {},
   "outputs": [
    {
     "data": {
      "text/plain": [
       "(6760, 1)"
      ]
     },
     "execution_count": 28,
     "metadata": {},
     "output_type": "execute_result"
    }
   ],
   "source": [
    "y_test.shape"
   ]
  },
  {
   "cell_type": "code",
   "execution_count": 29,
   "metadata": {},
   "outputs": [
    {
     "data": {
      "text/plain": [
       "(array([0, 1, 2]), array([5290,  294, 1176], dtype=int64))"
      ]
     },
     "execution_count": 29,
     "metadata": {},
     "output_type": "execute_result"
    }
   ],
   "source": [
    "np.unique(y_test, return_counts=True)"
   ]
  },
  {
   "cell_type": "code",
   "execution_count": 30,
   "metadata": {},
   "outputs": [],
   "source": [
    "X_train_full_std = np.concatenate((X_train_std, X_test_std), axis=0)"
   ]
  },
  {
   "cell_type": "code",
   "execution_count": 31,
   "metadata": {},
   "outputs": [],
   "source": [
    "y_train_full = np.concatenate((y_train, y_test), axis=0)"
   ]
  },
  {
   "cell_type": "code",
   "execution_count": null,
   "metadata": {},
   "outputs": [],
   "source": []
  },
  {
   "cell_type": "code",
   "execution_count": null,
   "metadata": {},
   "outputs": [],
   "source": []
  },
  {
   "cell_type": "code",
   "execution_count": 41,
   "metadata": {},
   "outputs": [],
   "source": [
    "from imblearn.combine import SMOTETomek\n",
    "from imblearn.under_sampling import RandomUnderSampler"
   ]
  },
  {
   "cell_type": "code",
   "execution_count": 42,
   "metadata": {},
   "outputs": [
    {
     "data": {
      "text/plain": [
       "(array([0, 1, 2]), array([32245,  1708,  7047], dtype=int64))"
      ]
     },
     "execution_count": 42,
     "metadata": {},
     "output_type": "execute_result"
    }
   ],
   "source": [
    "np.unique(y_train, return_counts=True)"
   ]
  },
  {
   "cell_type": "code",
   "execution_count": 43,
   "metadata": {},
   "outputs": [],
   "source": [
    "# Combining undersampling with oversampling since that gives better results"
   ]
  },
  {
   "cell_type": "code",
   "execution_count": 48,
   "metadata": {},
   "outputs": [],
   "source": [
    "rus = RandomUnderSampler(sampling_strategy={0:22000,1:1708,2:7047},random_state=66)\n",
    "X_temp, y_temp = rus.fit_resample(X_train, y_train)"
   ]
  },
  {
   "cell_type": "code",
   "execution_count": 49,
   "metadata": {},
   "outputs": [
    {
     "data": {
      "text/plain": [
       "(array([0, 1, 2]), array([22000,  1708,  7047], dtype=int64))"
      ]
     },
     "execution_count": 49,
     "metadata": {},
     "output_type": "execute_result"
    }
   ],
   "source": [
    "np.unique(y_temp, return_counts=True)"
   ]
  },
  {
   "cell_type": "code",
   "execution_count": 51,
   "metadata": {},
   "outputs": [],
   "source": [
    "smt = SMOTETomek(sampling_strategy={0:22000, 1:5124, 2:14000}, random_state = 66)\n",
    "X_train_smt, y_train_smt = smt.fit_resample(X_temp, y_temp)"
   ]
  },
  {
   "cell_type": "code",
   "execution_count": 52,
   "metadata": {},
   "outputs": [
    {
     "data": {
      "text/plain": [
       "(array([0, 1, 2]), array([21559,  5004, 13617], dtype=int64))"
      ]
     },
     "execution_count": 52,
     "metadata": {},
     "output_type": "execute_result"
    }
   ],
   "source": [
    "np.unique(y_train_smt, return_counts=True)"
   ]
  },
  {
   "cell_type": "code",
   "execution_count": 53,
   "metadata": {},
   "outputs": [
    {
     "data": {
      "text/plain": [
       "(40180, 21)"
      ]
     },
     "execution_count": 53,
     "metadata": {},
     "output_type": "execute_result"
    }
   ],
   "source": [
    "X_train_smt.shape"
   ]
  },
  {
   "cell_type": "code",
   "execution_count": 54,
   "metadata": {},
   "outputs": [],
   "source": [
    "X_train_smt_std = standardizer_new(X_train_smt)\n",
    "y_train_smt = y_train_smt"
   ]
  },
  {
   "cell_type": "code",
   "execution_count": 55,
   "metadata": {},
   "outputs": [
    {
     "data": {
      "text/plain": [
       "(40180, 21)"
      ]
     },
     "execution_count": 55,
     "metadata": {},
     "output_type": "execute_result"
    }
   ],
   "source": [
    "X_train_smt_std.shape"
   ]
  },
  {
   "cell_type": "code",
   "execution_count": 56,
   "metadata": {},
   "outputs": [
    {
     "data": {
      "text/plain": [
       "(6760, 21)"
      ]
     },
     "execution_count": 56,
     "metadata": {},
     "output_type": "execute_result"
    }
   ],
   "source": [
    "X_test_std.shape"
   ]
  },
  {
   "cell_type": "code",
   "execution_count": 57,
   "metadata": {},
   "outputs": [
    {
     "data": {
      "text/plain": [
       "(40180,)"
      ]
     },
     "execution_count": 57,
     "metadata": {},
     "output_type": "execute_result"
    }
   ],
   "source": [
    "y_train_smt.shape"
   ]
  },
  {
   "cell_type": "code",
   "execution_count": 58,
   "metadata": {},
   "outputs": [
    {
     "data": {
      "text/plain": [
       "(6760,)"
      ]
     },
     "execution_count": 58,
     "metadata": {},
     "output_type": "execute_result"
    }
   ],
   "source": [
    "y_test.ravel().shape"
   ]
  },
  {
   "cell_type": "code",
   "execution_count": 59,
   "metadata": {},
   "outputs": [],
   "source": [
    "X_train_full_smt_std = np.concatenate((X_train_smt_std, X_test_std), axis=0)"
   ]
  },
  {
   "cell_type": "code",
   "execution_count": 60,
   "metadata": {},
   "outputs": [],
   "source": [
    "y_train_full_smt = np.concatenate((y_train_smt, y_test.ravel()), axis=0)"
   ]
  },
  {
   "cell_type": "code",
   "execution_count": 275,
   "metadata": {},
   "outputs": [],
   "source": [
    "# np.savetxt(\"X_train_full_smt_std.csv\", X_train_full_smt_std, delimiter=\",\")\n",
    "# np.savetxt(\"y_train_full_smt.csv\", y_train_full_smt, delimiter=\",\")"
   ]
  },
  {
   "cell_type": "code",
   "execution_count": null,
   "metadata": {},
   "outputs": [],
   "source": []
  },
  {
   "cell_type": "code",
   "execution_count": 67,
   "metadata": {},
   "outputs": [],
   "source": [
    "param_grid1 = {\n",
    "    'n_estimators' : [50, 100, 200, 300],\n",
    "    'criterion': ['gini','entropy'],\n",
    "    #removed None from below to avoid overfitting\n",
    "    'max_depth' : [3, 5, 10],\n",
    "    'min_samples_split' : [2, 4, 8, 20, 0.01, 0.1, 0.2, 0.4],\n",
    "    'min_samples_leaf' : [1, 2, 4, 8, 16],\n",
    "    'max_features' : [None, \"sqrt\", \"log2\"],\n",
    "    'bootstrap' : [True, False],\n",
    "    'class_weight' : [None, \"balanced\", \"balanced_subsample\"],\n",
    "}"
   ]
  },
  {
   "cell_type": "code",
   "execution_count": 68,
   "metadata": {},
   "outputs": [
    {
     "name": "stdout",
     "output_type": "stream",
     "text": [
      "n_iterations: 7\n",
      "n_required_iterations: 7\n",
      "n_possible_iterations: 7\n",
      "min_resources_: 30\n",
      "max_resources_: 40180\n",
      "aggressive_elimination: False\n",
      "factor: 3\n",
      "----------\n",
      "iter: 0\n",
      "n_candidates: 1339\n",
      "n_resources: 30\n",
      "Fitting 5 folds for each of 1339 candidates, totalling 6695 fits\n",
      "----------\n",
      "iter: 1\n",
      "n_candidates: 447\n",
      "n_resources: 90\n",
      "Fitting 5 folds for each of 447 candidates, totalling 2235 fits\n",
      "----------\n",
      "iter: 2\n",
      "n_candidates: 149\n",
      "n_resources: 270\n",
      "Fitting 5 folds for each of 149 candidates, totalling 745 fits\n",
      "----------\n",
      "iter: 3\n",
      "n_candidates: 50\n",
      "n_resources: 810\n",
      "Fitting 5 folds for each of 50 candidates, totalling 250 fits\n",
      "----------\n",
      "iter: 4\n",
      "n_candidates: 17\n",
      "n_resources: 2430\n",
      "Fitting 5 folds for each of 17 candidates, totalling 85 fits\n",
      "----------\n",
      "iter: 5\n",
      "n_candidates: 6\n",
      "n_resources: 7290\n",
      "Fitting 5 folds for each of 6 candidates, totalling 30 fits\n",
      "----------\n",
      "iter: 6\n",
      "n_candidates: 2\n",
      "n_resources: 21870\n",
      "Fitting 5 folds for each of 2 candidates, totalling 10 fits\n"
     ]
    },
    {
     "data": {
      "text/plain": [
       "HalvingRandomSearchCV(estimator=RandomForestClassifier(), n_jobs=-1,\n",
       "                      param_distributions={'bootstrap': [True, False],\n",
       "                                           'class_weight': [None, 'balanced',\n",
       "                                                            'balanced_subsample'],\n",
       "                                           'criterion': ['gini', 'entropy'],\n",
       "                                           'max_depth': [3, 5, 10],\n",
       "                                           'max_features': [None, 'sqrt',\n",
       "                                                            'log2'],\n",
       "                                           'min_samples_leaf': [1, 2, 4, 8, 16],\n",
       "                                           'min_samples_split': [2, 4, 8, 20,\n",
       "                                                                 0.01, 0.1, 0.2,\n",
       "                                                                 0.4],\n",
       "                                           'n_estimators': [50, 100, 200, 300]},\n",
       "                      verbose=2)"
      ]
     },
     "execution_count": 68,
     "metadata": {},
     "output_type": "execute_result"
    }
   ],
   "source": [
    "rf_clf = RandomForestClassifier()\n",
    "grid1 = HalvingRandomSearchCV(estimator = rf_clf, param_distributions = param_grid1, refit = True, verbose = 2, n_jobs=-1, factor = 3)\n",
    "# fitting the model for grid search \n",
    "grid1.fit(X_train_smt_std, y_train_smt.ravel())"
   ]
  },
  {
   "cell_type": "code",
   "execution_count": 69,
   "metadata": {},
   "outputs": [
    {
     "name": "stdout",
     "output_type": "stream",
     "text": [
      "{'n_estimators': 200, 'min_samples_split': 4, 'min_samples_leaf': 1, 'max_features': 'sqrt', 'max_depth': 10, 'criterion': 'gini', 'class_weight': None, 'bootstrap': False}\n"
     ]
    }
   ],
   "source": [
    "# print best parameter after tuning \n",
    "print(grid1.best_params_) \n",
    "grid_predictions = grid1.predict(X_test_std)"
   ]
  },
  {
   "cell_type": "code",
   "execution_count": 70,
   "metadata": {},
   "outputs": [
    {
     "name": "stdout",
     "output_type": "stream",
     "text": [
      "              precision    recall  f1-score   support\n",
      "\n",
      "           0       0.97      0.85      0.91      5290\n",
      "           1       0.65      0.88      0.75       294\n",
      "           2       0.61      0.88      0.72      1176\n",
      "\n",
      "    accuracy                           0.86      6760\n",
      "   macro avg       0.74      0.87      0.79      6760\n",
      "weighted avg       0.89      0.86      0.87      6760\n",
      "\n"
     ]
    }
   ],
   "source": [
    "print(classification_report(y_test, grid_predictions)) "
   ]
  },
  {
   "cell_type": "code",
   "execution_count": 71,
   "metadata": {},
   "outputs": [
    {
     "name": "stdout",
     "output_type": "stream",
     "text": [
      "Accuracy is: 0.8594674556213018\n",
      "Balanced Accuracy is: 0.8737531559567747\n",
      "F1 score is: [0.90653266 0.75144509 0.72272411]\n",
      "F1 sample score is: [0.90653266 0.75144509 0.72272411]\n",
      "Precision is: [0.96781116 0.65326633 0.61104583]\n",
      "Recall is: [0.85255198 0.88435374 0.88435374]\n",
      "ROC AUC Score is: 0.9604769615620347\n"
     ]
    }
   ],
   "source": [
    "print(\"Accuracy is:\",accuracy_score(y_test, grid_predictions))\n",
    "print(\"Balanced Accuracy is:\",balanced_accuracy_score(y_test, grid_predictions))\n",
    "print(\"F1 score is:\",f1_score(y_test, grid_predictions, average = None))\n",
    "print(\"F1 sample score is:\",f1_score(y_test, grid_predictions, average = None))\n",
    "print(\"Precision is:\",precision_score(y_test, grid_predictions, average = None))\n",
    "print(\"Recall is:\",recall_score(y_test, grid_predictions, average = None))\n",
    "\n",
    "#clf.predict_proba(X), multi_class='ovr'\n",
    "#https://scikit-learn.org/stable/modules/generated/sklearn.metrics.roc_auc_score.html#sklearn.metrics.roc_auc_score\n",
    "print(\"ROC AUC Score is:\",roc_auc_score(y_test, grid1.predict_proba(X_test_std), multi_class = 'ovr'))"
   ]
  },
  {
   "cell_type": "code",
   "execution_count": 72,
   "metadata": {},
   "outputs": [
    {
     "data": {
      "text/plain": [
       "RandomForestClassifier(bootstrap=False, max_depth=10, max_features='sqrt',\n",
       "                       min_samples_split=4, n_estimators=200)"
      ]
     },
     "execution_count": 72,
     "metadata": {},
     "output_type": "execute_result"
    }
   ],
   "source": [
    "grid1.best_estimator_"
   ]
  },
  {
   "cell_type": "code",
   "execution_count": null,
   "metadata": {},
   "outputs": [],
   "source": []
  },
  {
   "cell_type": "code",
   "execution_count": 73,
   "metadata": {},
   "outputs": [],
   "source": [
    "rf = RandomForestClassifier(bootstrap=False, max_depth=10, max_features='sqrt',\n",
    "                       min_samples_split=4, n_estimators=200).fit(X_train_full_smt_std, y_train_full_smt.ravel())"
   ]
  },
  {
   "cell_type": "code",
   "execution_count": 74,
   "metadata": {},
   "outputs": [],
   "source": [
    "#predictions = rf.predict()"
   ]
  },
  {
   "cell_type": "code",
   "execution_count": null,
   "metadata": {},
   "outputs": [],
   "source": []
  },
  {
   "cell_type": "code",
   "execution_count": 75,
   "metadata": {},
   "outputs": [],
   "source": [
    "submit_df = pd.read_csv(r\"./ift3395-6390-weatherevents/test.csv\")"
   ]
  },
  {
   "cell_type": "code",
   "execution_count": 76,
   "metadata": {},
   "outputs": [],
   "source": [
    "submit_df = df_year_handler(submit_df)"
   ]
  },
  {
   "cell_type": "code",
   "execution_count": 77,
   "metadata": {},
   "outputs": [],
   "source": [
    "submit_df = submit_df.drop(columns=[\"S.No\"])"
   ]
  },
  {
   "cell_type": "code",
   "execution_count": 78,
   "metadata": {},
   "outputs": [
    {
     "data": {
      "text/html": [
       "<div>\n",
       "<style scoped>\n",
       "    .dataframe tbody tr th:only-of-type {\n",
       "        vertical-align: middle;\n",
       "    }\n",
       "\n",
       "    .dataframe tbody tr th {\n",
       "        vertical-align: top;\n",
       "    }\n",
       "\n",
       "    .dataframe thead th {\n",
       "        text-align: right;\n",
       "    }\n",
       "</style>\n",
       "<table border=\"1\" class=\"dataframe\">\n",
       "  <thead>\n",
       "    <tr style=\"text-align: right;\">\n",
       "      <th></th>\n",
       "      <th>lat</th>\n",
       "      <th>lon</th>\n",
       "      <th>TMQ</th>\n",
       "      <th>U850</th>\n",
       "      <th>V850</th>\n",
       "      <th>UBOT</th>\n",
       "      <th>VBOT</th>\n",
       "      <th>QREFHT</th>\n",
       "      <th>PS</th>\n",
       "      <th>PSL</th>\n",
       "      <th>...</th>\n",
       "      <th>T500</th>\n",
       "      <th>PRECT</th>\n",
       "      <th>TS</th>\n",
       "      <th>TREFHT</th>\n",
       "      <th>Z1000</th>\n",
       "      <th>Z200</th>\n",
       "      <th>ZBOT</th>\n",
       "      <th>year</th>\n",
       "      <th>month</th>\n",
       "      <th>date</th>\n",
       "    </tr>\n",
       "  </thead>\n",
       "  <tbody>\n",
       "    <tr>\n",
       "      <th>0</th>\n",
       "      <td>-31.095176</td>\n",
       "      <td>353.1250</td>\n",
       "      <td>22.372244</td>\n",
       "      <td>-1.994936</td>\n",
       "      <td>-0.002513</td>\n",
       "      <td>-7.732825</td>\n",
       "      <td>-1.864900</td>\n",
       "      <td>0.008203</td>\n",
       "      <td>102809.6719</td>\n",
       "      <td>102809.6719</td>\n",
       "      <td>...</td>\n",
       "      <td>258.135406</td>\n",
       "      <td>4.060000e-08</td>\n",
       "      <td>290.377930</td>\n",
       "      <td>289.014862</td>\n",
       "      <td>234.634003</td>\n",
       "      <td>12023.84082</td>\n",
       "      <td>63.400764</td>\n",
       "      <td>2013</td>\n",
       "      <td>9</td>\n",
       "      <td>27</td>\n",
       "    </tr>\n",
       "    <tr>\n",
       "      <th>1</th>\n",
       "      <td>-31.095176</td>\n",
       "      <td>353.4375</td>\n",
       "      <td>21.536032</td>\n",
       "      <td>-2.058918</td>\n",
       "      <td>0.397359</td>\n",
       "      <td>-8.436489</td>\n",
       "      <td>-0.940275</td>\n",
       "      <td>0.007887</td>\n",
       "      <td>102816.6016</td>\n",
       "      <td>102816.6016</td>\n",
       "      <td>...</td>\n",
       "      <td>258.205994</td>\n",
       "      <td>1.670000e-08</td>\n",
       "      <td>290.377228</td>\n",
       "      <td>288.873138</td>\n",
       "      <td>234.982056</td>\n",
       "      <td>12023.83301</td>\n",
       "      <td>63.348942</td>\n",
       "      <td>2013</td>\n",
       "      <td>9</td>\n",
       "      <td>27</td>\n",
       "    </tr>\n",
       "    <tr>\n",
       "      <th>2</th>\n",
       "      <td>-31.095176</td>\n",
       "      <td>353.7500</td>\n",
       "      <td>20.465317</td>\n",
       "      <td>-2.128485</td>\n",
       "      <td>0.717785</td>\n",
       "      <td>-8.842417</td>\n",
       "      <td>0.152449</td>\n",
       "      <td>0.007695</td>\n",
       "      <td>102827.8594</td>\n",
       "      <td>102827.8594</td>\n",
       "      <td>...</td>\n",
       "      <td>258.242279</td>\n",
       "      <td>1.220000e-08</td>\n",
       "      <td>290.377228</td>\n",
       "      <td>288.641480</td>\n",
       "      <td>235.631378</td>\n",
       "      <td>12025.41113</td>\n",
       "      <td>63.281322</td>\n",
       "      <td>2013</td>\n",
       "      <td>9</td>\n",
       "      <td>27</td>\n",
       "    </tr>\n",
       "    <tr>\n",
       "      <th>3</th>\n",
       "      <td>-31.095176</td>\n",
       "      <td>354.0625</td>\n",
       "      <td>19.967148</td>\n",
       "      <td>-2.126235</td>\n",
       "      <td>1.123356</td>\n",
       "      <td>-8.773702</td>\n",
       "      <td>1.251795</td>\n",
       "      <td>0.007519</td>\n",
       "      <td>102830.5391</td>\n",
       "      <td>102830.5391</td>\n",
       "      <td>...</td>\n",
       "      <td>258.335113</td>\n",
       "      <td>3.460000e-10</td>\n",
       "      <td>290.441406</td>\n",
       "      <td>288.420074</td>\n",
       "      <td>235.608460</td>\n",
       "      <td>12026.61426</td>\n",
       "      <td>63.216827</td>\n",
       "      <td>2013</td>\n",
       "      <td>9</td>\n",
       "      <td>27</td>\n",
       "    </tr>\n",
       "    <tr>\n",
       "      <th>4</th>\n",
       "      <td>-31.095176</td>\n",
       "      <td>354.3750</td>\n",
       "      <td>19.598663</td>\n",
       "      <td>-2.053118</td>\n",
       "      <td>1.823581</td>\n",
       "      <td>-8.472447</td>\n",
       "      <td>2.225254</td>\n",
       "      <td>0.007293</td>\n",
       "      <td>102823.8516</td>\n",
       "      <td>102823.8516</td>\n",
       "      <td>...</td>\n",
       "      <td>258.513702</td>\n",
       "      <td>5.920000e-10</td>\n",
       "      <td>290.468903</td>\n",
       "      <td>288.392975</td>\n",
       "      <td>235.004334</td>\n",
       "      <td>12027.29004</td>\n",
       "      <td>63.200485</td>\n",
       "      <td>2013</td>\n",
       "      <td>9</td>\n",
       "      <td>27</td>\n",
       "    </tr>\n",
       "    <tr>\n",
       "      <th>...</th>\n",
       "      <td>...</td>\n",
       "      <td>...</td>\n",
       "      <td>...</td>\n",
       "      <td>...</td>\n",
       "      <td>...</td>\n",
       "      <td>...</td>\n",
       "      <td>...</td>\n",
       "      <td>...</td>\n",
       "      <td>...</td>\n",
       "      <td>...</td>\n",
       "      <td>...</td>\n",
       "      <td>...</td>\n",
       "      <td>...</td>\n",
       "      <td>...</td>\n",
       "      <td>...</td>\n",
       "      <td>...</td>\n",
       "      <td>...</td>\n",
       "      <td>...</td>\n",
       "      <td>...</td>\n",
       "      <td>...</td>\n",
       "      <td>...</td>\n",
       "    </tr>\n",
       "    <tr>\n",
       "      <th>7315</th>\n",
       "      <td>24.054759</td>\n",
       "      <td>276.5625</td>\n",
       "      <td>51.415295</td>\n",
       "      <td>-1.095974</td>\n",
       "      <td>-8.194263</td>\n",
       "      <td>2.484773</td>\n",
       "      <td>-10.520496</td>\n",
       "      <td>0.020928</td>\n",
       "      <td>100743.8438</td>\n",
       "      <td>100743.8438</td>\n",
       "      <td>...</td>\n",
       "      <td>268.880676</td>\n",
       "      <td>6.870000e-15</td>\n",
       "      <td>302.576569</td>\n",
       "      <td>302.226227</td>\n",
       "      <td>66.832077</td>\n",
       "      <td>12467.79492</td>\n",
       "      <td>66.832077</td>\n",
       "      <td>2013</td>\n",
       "      <td>9</td>\n",
       "      <td>16</td>\n",
       "    </tr>\n",
       "    <tr>\n",
       "      <th>7316</th>\n",
       "      <td>24.054759</td>\n",
       "      <td>276.8750</td>\n",
       "      <td>52.377407</td>\n",
       "      <td>-0.265653</td>\n",
       "      <td>-8.730537</td>\n",
       "      <td>3.783044</td>\n",
       "      <td>-10.748092</td>\n",
       "      <td>0.021389</td>\n",
       "      <td>100703.5313</td>\n",
       "      <td>100703.5313</td>\n",
       "      <td>...</td>\n",
       "      <td>269.085083</td>\n",
       "      <td>9.240000e-10</td>\n",
       "      <td>302.583557</td>\n",
       "      <td>302.131012</td>\n",
       "      <td>66.827492</td>\n",
       "      <td>12466.41309</td>\n",
       "      <td>66.827492</td>\n",
       "      <td>2013</td>\n",
       "      <td>9</td>\n",
       "      <td>16</td>\n",
       "    </tr>\n",
       "    <tr>\n",
       "      <th>7317</th>\n",
       "      <td>24.054759</td>\n",
       "      <td>277.1875</td>\n",
       "      <td>54.639217</td>\n",
       "      <td>0.775797</td>\n",
       "      <td>-9.646189</td>\n",
       "      <td>5.087689</td>\n",
       "      <td>-10.786784</td>\n",
       "      <td>0.021745</td>\n",
       "      <td>100673.9844</td>\n",
       "      <td>100673.9844</td>\n",
       "      <td>...</td>\n",
       "      <td>269.305939</td>\n",
       "      <td>5.870000e-08</td>\n",
       "      <td>302.646820</td>\n",
       "      <td>302.032715</td>\n",
       "      <td>66.812981</td>\n",
       "      <td>12467.56934</td>\n",
       "      <td>66.812981</td>\n",
       "      <td>2013</td>\n",
       "      <td>9</td>\n",
       "      <td>16</td>\n",
       "    </tr>\n",
       "    <tr>\n",
       "      <th>7318</th>\n",
       "      <td>24.054759</td>\n",
       "      <td>277.5000</td>\n",
       "      <td>56.121231</td>\n",
       "      <td>1.813888</td>\n",
       "      <td>-10.849813</td>\n",
       "      <td>6.442380</td>\n",
       "      <td>-10.859090</td>\n",
       "      <td>0.021840</td>\n",
       "      <td>100647.3359</td>\n",
       "      <td>100647.3359</td>\n",
       "      <td>...</td>\n",
       "      <td>269.616638</td>\n",
       "      <td>8.810000e-08</td>\n",
       "      <td>302.646820</td>\n",
       "      <td>302.014435</td>\n",
       "      <td>66.808281</td>\n",
       "      <td>12468.06934</td>\n",
       "      <td>66.808273</td>\n",
       "      <td>2013</td>\n",
       "      <td>9</td>\n",
       "      <td>16</td>\n",
       "    </tr>\n",
       "    <tr>\n",
       "      <th>7319</th>\n",
       "      <td>24.054759</td>\n",
       "      <td>277.8125</td>\n",
       "      <td>56.888420</td>\n",
       "      <td>2.819084</td>\n",
       "      <td>-12.172881</td>\n",
       "      <td>7.671317</td>\n",
       "      <td>-10.641853</td>\n",
       "      <td>0.022239</td>\n",
       "      <td>100621.3438</td>\n",
       "      <td>100621.3438</td>\n",
       "      <td>...</td>\n",
       "      <td>269.940277</td>\n",
       "      <td>1.110000e-07</td>\n",
       "      <td>302.646820</td>\n",
       "      <td>301.950531</td>\n",
       "      <td>66.808609</td>\n",
       "      <td>12468.50098</td>\n",
       "      <td>66.808151</td>\n",
       "      <td>2013</td>\n",
       "      <td>9</td>\n",
       "      <td>16</td>\n",
       "    </tr>\n",
       "  </tbody>\n",
       "</table>\n",
       "<p>7320 rows × 21 columns</p>\n",
       "</div>"
      ],
      "text/plain": [
       "            lat       lon        TMQ      U850       V850      UBOT  \\\n",
       "0    -31.095176  353.1250  22.372244 -1.994936  -0.002513 -7.732825   \n",
       "1    -31.095176  353.4375  21.536032 -2.058918   0.397359 -8.436489   \n",
       "2    -31.095176  353.7500  20.465317 -2.128485   0.717785 -8.842417   \n",
       "3    -31.095176  354.0625  19.967148 -2.126235   1.123356 -8.773702   \n",
       "4    -31.095176  354.3750  19.598663 -2.053118   1.823581 -8.472447   \n",
       "...         ...       ...        ...       ...        ...       ...   \n",
       "7315  24.054759  276.5625  51.415295 -1.095974  -8.194263  2.484773   \n",
       "7316  24.054759  276.8750  52.377407 -0.265653  -8.730537  3.783044   \n",
       "7317  24.054759  277.1875  54.639217  0.775797  -9.646189  5.087689   \n",
       "7318  24.054759  277.5000  56.121231  1.813888 -10.849813  6.442380   \n",
       "7319  24.054759  277.8125  56.888420  2.819084 -12.172881  7.671317   \n",
       "\n",
       "           VBOT    QREFHT           PS          PSL  ...        T500  \\\n",
       "0     -1.864900  0.008203  102809.6719  102809.6719  ...  258.135406   \n",
       "1     -0.940275  0.007887  102816.6016  102816.6016  ...  258.205994   \n",
       "2      0.152449  0.007695  102827.8594  102827.8594  ...  258.242279   \n",
       "3      1.251795  0.007519  102830.5391  102830.5391  ...  258.335113   \n",
       "4      2.225254  0.007293  102823.8516  102823.8516  ...  258.513702   \n",
       "...         ...       ...          ...          ...  ...         ...   \n",
       "7315 -10.520496  0.020928  100743.8438  100743.8438  ...  268.880676   \n",
       "7316 -10.748092  0.021389  100703.5313  100703.5313  ...  269.085083   \n",
       "7317 -10.786784  0.021745  100673.9844  100673.9844  ...  269.305939   \n",
       "7318 -10.859090  0.021840  100647.3359  100647.3359  ...  269.616638   \n",
       "7319 -10.641853  0.022239  100621.3438  100621.3438  ...  269.940277   \n",
       "\n",
       "             PRECT          TS      TREFHT       Z1000         Z200  \\\n",
       "0     4.060000e-08  290.377930  289.014862  234.634003  12023.84082   \n",
       "1     1.670000e-08  290.377228  288.873138  234.982056  12023.83301   \n",
       "2     1.220000e-08  290.377228  288.641480  235.631378  12025.41113   \n",
       "3     3.460000e-10  290.441406  288.420074  235.608460  12026.61426   \n",
       "4     5.920000e-10  290.468903  288.392975  235.004334  12027.29004   \n",
       "...            ...         ...         ...         ...          ...   \n",
       "7315  6.870000e-15  302.576569  302.226227   66.832077  12467.79492   \n",
       "7316  9.240000e-10  302.583557  302.131012   66.827492  12466.41309   \n",
       "7317  5.870000e-08  302.646820  302.032715   66.812981  12467.56934   \n",
       "7318  8.810000e-08  302.646820  302.014435   66.808281  12468.06934   \n",
       "7319  1.110000e-07  302.646820  301.950531   66.808609  12468.50098   \n",
       "\n",
       "           ZBOT  year  month  date  \n",
       "0     63.400764  2013      9    27  \n",
       "1     63.348942  2013      9    27  \n",
       "2     63.281322  2013      9    27  \n",
       "3     63.216827  2013      9    27  \n",
       "4     63.200485  2013      9    27  \n",
       "...         ...   ...    ...   ...  \n",
       "7315  66.832077  2013      9    16  \n",
       "7316  66.827492  2013      9    16  \n",
       "7317  66.812981  2013      9    16  \n",
       "7318  66.808273  2013      9    16  \n",
       "7319  66.808151  2013      9    16  \n",
       "\n",
       "[7320 rows x 21 columns]"
      ]
     },
     "execution_count": 78,
     "metadata": {},
     "output_type": "execute_result"
    }
   ],
   "source": [
    "submit_df"
   ]
  },
  {
   "cell_type": "code",
   "execution_count": 79,
   "metadata": {},
   "outputs": [],
   "source": [
    "def standardizer_new(X_train):\n",
    "    df = pd.DataFrame(X_train)\n",
    "    #df = df.drop(columns=[0])\n",
    "    df = (df-df.mean())/df.std()\n",
    "    X_train = df.to_numpy()\n",
    "    #num_of_train = X_train.shape[0]\n",
    "    #X_train = np.hstack((np.ones((num_of_train,1)),X_train))\n",
    "    return X_train"
   ]
  },
  {
   "cell_type": "code",
   "execution_count": 80,
   "metadata": {},
   "outputs": [],
   "source": [
    "X_submit = standardizer_new(submit_df)"
   ]
  },
  {
   "cell_type": "code",
   "execution_count": 81,
   "metadata": {},
   "outputs": [
    {
     "data": {
      "text/plain": [
       "(7320, 21)"
      ]
     },
     "execution_count": 81,
     "metadata": {},
     "output_type": "execute_result"
    }
   ],
   "source": [
    "X_submit.shape"
   ]
  },
  {
   "cell_type": "code",
   "execution_count": 82,
   "metadata": {},
   "outputs": [],
   "source": [
    "predictions_submit = rf.predict(X_submit)"
   ]
  },
  {
   "cell_type": "code",
   "execution_count": 86,
   "metadata": {},
   "outputs": [
    {
     "data": {
      "text/plain": [
       "numpy.int32"
      ]
     },
     "execution_count": 86,
     "metadata": {},
     "output_type": "execute_result"
    }
   ],
   "source": [
    "type(predictions_submit[0])"
   ]
  },
  {
   "cell_type": "code",
   "execution_count": 83,
   "metadata": {},
   "outputs": [],
   "source": [
    "predictions_df = pd.DataFrame(data=predictions_submit,columns=[\"LABELS\"]).astype(int)\n",
    "#https://stackoverflow.com/questions/18022845/pandas-index-column-title-or-name\n",
    "predictions_df.index.name = \"S.No\"\n",
    "predictions_df.to_csv(r\"./ift3395-6390-weatherevents/submission_SMOTE_with_prior_undersampling_with_dups.csv\")"
   ]
  },
  {
   "cell_type": "code",
   "execution_count": null,
   "metadata": {},
   "outputs": [],
   "source": []
  }
 ],
 "metadata": {
  "kernelspec": {
   "display_name": "Python 3 (ipykernel)",
   "language": "python",
   "name": "python3"
  },
  "language_info": {
   "codemirror_mode": {
    "name": "ipython",
    "version": 3
   },
   "file_extension": ".py",
   "mimetype": "text/x-python",
   "name": "python",
   "nbconvert_exporter": "python",
   "pygments_lexer": "ipython3",
   "version": "3.8.5"
  }
 },
 "nbformat": 4,
 "nbformat_minor": 4
}
