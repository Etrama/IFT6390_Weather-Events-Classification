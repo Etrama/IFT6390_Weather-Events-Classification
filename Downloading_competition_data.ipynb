{
 "cells": [
  {
   "cell_type": "code",
   "execution_count": 9,
   "metadata": {},
   "outputs": [
    {
     "name": "stdout",
     "output_type": "stream",
     "text": [
      "Downloading ift3395-6390-weatherevents.zip to C:\\Users\\kaush\\Documents\\6390 Kaggle Project"
     ]
    },
    {
     "name": "stderr",
     "output_type": "stream",
     "text": [
      "\n",
      "  0%|          | 0.00/4.72M [00:00<?, ?B/s]\n",
      " 21%|##1       | 1.00M/4.72M [00:00<00:01, 2.30MB/s]\n",
      " 42%|####2     | 2.00M/4.72M [00:00<00:01, 2.26MB/s]\n",
      " 64%|######3   | 3.00M/4.72M [00:01<00:00, 2.24MB/s]\n",
      " 85%|########4 | 4.00M/4.72M [00:01<00:00, 2.26MB/s]\n",
      "100%|##########| 4.72M/4.72M [00:02<00:00, 2.37MB/s]\n",
      "100%|##########| 4.72M/4.72M [00:02<00:00, 2.30MB/s]\n"
     ]
    },
    {
     "name": "stdout",
     "output_type": "stream",
     "text": [
      "\n",
      "\n"
     ]
    }
   ],
   "source": [
    "!kaggle competitions download -c ift3395-6390-weatherevents"
   ]
  },
  {
   "cell_type": "code",
   "execution_count": null,
   "metadata": {},
   "outputs": [],
   "source": []
  }
 ],
 "metadata": {
  "kernelspec": {
   "display_name": "Python 3",
   "language": "python",
   "name": "python3"
  },
  "language_info": {
   "codemirror_mode": {
    "name": "ipython",
    "version": 3
   },
   "file_extension": ".py",
   "mimetype": "text/x-python",
   "name": "python",
   "nbconvert_exporter": "python",
   "pygments_lexer": "ipython3",
   "version": "3.8.5"
  }
 },
 "nbformat": 4,
 "nbformat_minor": 4
}
