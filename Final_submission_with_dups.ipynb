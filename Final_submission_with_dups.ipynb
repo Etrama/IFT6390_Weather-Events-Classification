{
 "cells": [
  {
   "cell_type": "code",
   "execution_count": 8,
   "metadata": {},
   "outputs": [],
   "source": [
    "import numpy as np\n",
    "import scipy #only sparse matrices allowed\n",
    "import pandas as pd\n",
    "import matplotlib.pyplot as plt"
   ]
  },
  {
   "cell_type": "code",
   "execution_count": 9,
   "metadata": {},
   "outputs": [],
   "source": [
    "from sklearn.metrics import classification_report\n",
    "from sklearn.metrics import confusion_matrix\n",
    "from sklearn.metrics import accuracy_score"
   ]
  },
  {
   "cell_type": "code",
   "execution_count": 10,
   "metadata": {},
   "outputs": [],
   "source": [
    "from sklearn.linear_model import LogisticRegression\n",
    "from sklearn.svm import SVC\n",
    "from sklearn.naive_bayes import GaussianNB\n",
    "from sklearn.naive_bayes import MultinomialNB\n",
    "from sklearn.linear_model import SGDClassifier\n",
    "from sklearn.neighbors import KNeighborsClassifier\n",
    "from sklearn.tree import DecisionTreeClassifier\n",
    "from sklearn.ensemble import RandomForestClassifier\n",
    "from sklearn.ensemble import GradientBoostingClassifier\n",
    "from lightgbm import LGBMClassifier\n",
    "from xgboost.sklearn import XGBClassifier"
   ]
  },
  {
   "cell_type": "code",
   "execution_count": 16,
   "metadata": {},
   "outputs": [],
   "source": [
    "#https://scikit-learn.org/stable/modules/generated/sklearn.linear_model.LogisticRegression.html\n",
    "dt_clf = DecisionTreeClassifier().fit(X_train,y_train.ravel())\n",
    "dt_predictions = dt_clf.predict(X_test)\n",
    "dt_accuracy = dt_clf.score(X_test, y_test.ravel())"
   ]
  },
  {
   "cell_type": "code",
   "execution_count": 17,
   "metadata": {},
   "outputs": [
    {
     "data": {
      "text/plain": [
       "0.8613905325443787"
      ]
     },
     "execution_count": 17,
     "metadata": {},
     "output_type": "execute_result"
    }
   ],
   "source": [
    "dt_accuracy"
   ]
  },
  {
   "cell_type": "code",
   "execution_count": 11,
   "metadata": {},
   "outputs": [],
   "source": [
    "#https://stackoverflow.com/questions/3518778/how-do-i-read-csv-data-into-a-record-array-in-numpy\n",
    "from numpy import genfromtxt\n",
    "X_test_std = genfromtxt('X_test_std.csv', delimiter=',')\n",
    "X_train_ada_std = genfromtxt('X_train_ada_std.csv', delimiter=',')\n",
    "X_train_std = genfromtxt('X_train_std.csv', delimiter=',')\n",
    "\n",
    "y_test = genfromtxt('y_test.csv', delimiter=',')\n",
    "y_train_ada = genfromtxt('y_train_ada.csv', delimiter=',')\n",
    "y_train = genfromtxt('y_train.csv', delimiter=',')\n",
    "\n",
    "y_test = y_test.astype(int)\n",
    "y_train_ada = y_train_ada.astype(int)\n",
    "y_train = y_train.astype(int)"
   ]
  },
  {
   "cell_type": "markdown",
   "metadata": {},
   "source": [
    "# Gridsearch for best hyperparameters:"
   ]
  },
  {
   "cell_type": "code",
   "execution_count": 12,
   "metadata": {},
   "outputs": [],
   "source": [
    "from sklearn.model_selection import GridSearchCV\n",
    "from sklearn.experimental import enable_halving_search_cv  # noqa\n",
    "from sklearn.model_selection import HalvingRandomSearchCV\n",
    "from sklearn.model_selection import RandomizedSearchCV"
   ]
  },
  {
   "cell_type": "code",
   "execution_count": 13,
   "metadata": {},
   "outputs": [],
   "source": [
    "#https://www.analyticsvidhya.com/blog/2021/06/tune-hyperparameters-with-gridsearchcv/\n",
    "#https://www.mygreatlearning.com/blog/gridsearchcv/"
   ]
  },
  {
   "cell_type": "code",
   "execution_count": 14,
   "metadata": {},
   "outputs": [],
   "source": [
    "param_grid = {\n",
    "    'criterion' : ['gini', 'entropy'],\n",
    "    'splitter' : ['best', 'random'],\n",
    "    'max_depth' : [None, 3, 5, 9, 15],\n",
    "    'max_features' : ['auto', 'log2', None],\n",
    "    'class_weight' : ['balanced', None],\n",
    "    'min_samples_split' : [2, 4, 8],\n",
    "    #'mini_samples_leaf' : [1, 2, 4 ,8]\n",
    "}"
   ]
  },
  {
   "cell_type": "code",
   "execution_count": 15,
   "metadata": {},
   "outputs": [
    {
     "name": "stdout",
     "output_type": "stream",
     "text": [
      "n_iterations: 33\n",
      "n_required_iterations: 33\n",
      "n_possible_iterations: 41\n",
      "min_resources_: 30\n",
      "max_resources_: 47961\n",
      "aggressive_elimination: False\n",
      "factor: 1.2\n",
      "----------\n",
      "iter: 0\n",
      "n_candidates: 360\n",
      "n_resources: 30\n",
      "Fitting 5 folds for each of 360 candidates, totalling 1800 fits\n"
     ]
    },
    {
     "name": "stderr",
     "output_type": "stream",
     "text": [
      "C:\\Users\\kaush\\anaconda3\\lib\\site-packages\\sklearn\\model_selection\\_search.py:292: UserWarning: The total space of parameters 360 is smaller than n_iter=1598. Running 360 iterations. For exhaustive searches, use GridSearchCV.\n",
      "  warnings.warn(\n"
     ]
    },
    {
     "name": "stdout",
     "output_type": "stream",
     "text": [
      "----------\n",
      "iter: 1\n",
      "n_candidates: 300\n",
      "n_resources: 36\n",
      "Fitting 5 folds for each of 300 candidates, totalling 1500 fits\n",
      "----------\n",
      "iter: 2\n",
      "n_candidates: 250\n",
      "n_resources: 43\n",
      "Fitting 5 folds for each of 250 candidates, totalling 1250 fits\n",
      "----------\n",
      "iter: 3\n",
      "n_candidates: 209\n",
      "n_resources: 51\n",
      "Fitting 5 folds for each of 209 candidates, totalling 1045 fits\n",
      "----------\n",
      "iter: 4\n",
      "n_candidates: 175\n",
      "n_resources: 62\n",
      "Fitting 5 folds for each of 175 candidates, totalling 875 fits\n",
      "----------\n",
      "iter: 5\n",
      "n_candidates: 146\n",
      "n_resources: 74\n",
      "Fitting 5 folds for each of 146 candidates, totalling 730 fits\n",
      "----------\n",
      "iter: 6\n",
      "n_candidates: 122\n",
      "n_resources: 89\n",
      "Fitting 5 folds for each of 122 candidates, totalling 610 fits\n",
      "----------\n",
      "iter: 7\n",
      "n_candidates: 102\n",
      "n_resources: 107\n",
      "Fitting 5 folds for each of 102 candidates, totalling 510 fits\n",
      "----------\n",
      "iter: 8\n",
      "n_candidates: 85\n",
      "n_resources: 128\n",
      "Fitting 5 folds for each of 85 candidates, totalling 425 fits\n",
      "----------\n",
      "iter: 9\n",
      "n_candidates: 71\n",
      "n_resources: 154\n",
      "Fitting 5 folds for each of 71 candidates, totalling 355 fits\n",
      "----------\n",
      "iter: 10\n",
      "n_candidates: 60\n",
      "n_resources: 185\n",
      "Fitting 5 folds for each of 60 candidates, totalling 300 fits\n",
      "----------\n",
      "iter: 11\n",
      "n_candidates: 50\n",
      "n_resources: 222\n",
      "Fitting 5 folds for each of 50 candidates, totalling 250 fits\n",
      "----------\n",
      "iter: 12\n",
      "n_candidates: 42\n",
      "n_resources: 267\n",
      "Fitting 5 folds for each of 42 candidates, totalling 210 fits\n",
      "----------\n",
      "iter: 13\n",
      "n_candidates: 35\n",
      "n_resources: 320\n",
      "Fitting 5 folds for each of 35 candidates, totalling 175 fits\n",
      "----------\n",
      "iter: 14\n",
      "n_candidates: 30\n",
      "n_resources: 385\n",
      "Fitting 5 folds for each of 30 candidates, totalling 150 fits\n",
      "----------\n",
      "iter: 15\n",
      "n_candidates: 25\n",
      "n_resources: 462\n",
      "Fitting 5 folds for each of 25 candidates, totalling 125 fits\n",
      "----------\n",
      "iter: 16\n",
      "n_candidates: 21\n",
      "n_resources: 554\n",
      "Fitting 5 folds for each of 21 candidates, totalling 105 fits\n",
      "----------\n",
      "iter: 17\n",
      "n_candidates: 18\n",
      "n_resources: 665\n",
      "Fitting 5 folds for each of 18 candidates, totalling 90 fits\n",
      "----------\n",
      "iter: 18\n",
      "n_candidates: 15\n",
      "n_resources: 798\n",
      "Fitting 5 folds for each of 15 candidates, totalling 75 fits\n",
      "----------\n",
      "iter: 19\n",
      "n_candidates: 13\n",
      "n_resources: 958\n",
      "Fitting 5 folds for each of 13 candidates, totalling 65 fits\n",
      "----------\n",
      "iter: 20\n",
      "n_candidates: 11\n",
      "n_resources: 1150\n",
      "Fitting 5 folds for each of 11 candidates, totalling 55 fits\n",
      "----------\n",
      "iter: 21\n",
      "n_candidates: 10\n",
      "n_resources: 1380\n",
      "Fitting 5 folds for each of 10 candidates, totalling 50 fits\n",
      "----------\n",
      "iter: 22\n",
      "n_candidates: 9\n",
      "n_resources: 1656\n",
      "Fitting 5 folds for each of 9 candidates, totalling 45 fits\n",
      "----------\n",
      "iter: 23\n",
      "n_candidates: 8\n",
      "n_resources: 1987\n",
      "Fitting 5 folds for each of 8 candidates, totalling 40 fits\n",
      "----------\n",
      "iter: 24\n",
      "n_candidates: 7\n",
      "n_resources: 2384\n",
      "Fitting 5 folds for each of 7 candidates, totalling 35 fits\n",
      "----------\n",
      "iter: 25\n",
      "n_candidates: 6\n",
      "n_resources: 2861\n",
      "Fitting 5 folds for each of 6 candidates, totalling 30 fits\n",
      "----------\n",
      "iter: 26\n",
      "n_candidates: 5\n",
      "n_resources: 3434\n",
      "Fitting 5 folds for each of 5 candidates, totalling 25 fits\n",
      "----------\n",
      "iter: 27\n",
      "n_candidates: 5\n",
      "n_resources: 4121\n",
      "Fitting 5 folds for each of 5 candidates, totalling 25 fits\n",
      "----------\n",
      "iter: 28\n",
      "n_candidates: 5\n",
      "n_resources: 4945\n",
      "Fitting 5 folds for each of 5 candidates, totalling 25 fits\n",
      "----------\n",
      "iter: 29\n",
      "n_candidates: 5\n",
      "n_resources: 5934\n",
      "Fitting 5 folds for each of 5 candidates, totalling 25 fits\n",
      "----------\n",
      "iter: 30\n",
      "n_candidates: 5\n",
      "n_resources: 7121\n",
      "Fitting 5 folds for each of 5 candidates, totalling 25 fits\n",
      "----------\n",
      "iter: 31\n",
      "n_candidates: 5\n",
      "n_resources: 8545\n",
      "Fitting 5 folds for each of 5 candidates, totalling 25 fits\n",
      "----------\n",
      "iter: 32\n",
      "n_candidates: 5\n",
      "n_resources: 10254\n",
      "Fitting 5 folds for each of 5 candidates, totalling 25 fits\n"
     ]
    },
    {
     "data": {
      "text/plain": [
       "HalvingRandomSearchCV(estimator=DecisionTreeClassifier(), factor=1.2, n_jobs=-1,\n",
       "                      param_distributions={'class_weight': ['balanced', None],\n",
       "                                           'criterion': ['gini', 'entropy'],\n",
       "                                           'max_depth': [None, 3, 5, 9, 15],\n",
       "                                           'max_features': ['auto', 'log2',\n",
       "                                                            None],\n",
       "                                           'min_samples_split': [2, 4, 8],\n",
       "                                           'splitter': ['best', 'random']},\n",
       "                      verbose=2)"
      ]
     },
     "execution_count": 15,
     "metadata": {},
     "output_type": "execute_result"
    }
   ],
   "source": [
    "dt_clf = DecisionTreeClassifier()\n",
    "grid = HalvingRandomSearchCV(estimator = dt_clf, param_distributions = param_grid, refit = True, verbose = 2, n_jobs=-1, factor = 1.2)\n",
    "# fitting the model for grid search \n",
    "grid.fit(X_train_ada_std, y_train_ada.ravel()) "
   ]
  },
  {
   "cell_type": "code",
   "execution_count": 16,
   "metadata": {},
   "outputs": [
    {
     "name": "stdout",
     "output_type": "stream",
     "text": [
      "{'splitter': 'random', 'min_samples_split': 2, 'max_features': None, 'max_depth': None, 'criterion': 'entropy', 'class_weight': 'balanced'}\n"
     ]
    }
   ],
   "source": [
    "# print best parameter after tuning \n",
    "print(grid.best_params_) \n",
    "grid_predictions = grid.predict(X_test_std)"
   ]
  },
  {
   "cell_type": "code",
   "execution_count": 17,
   "metadata": {},
   "outputs": [
    {
     "name": "stdout",
     "output_type": "stream",
     "text": [
      "              precision    recall  f1-score   support\n",
      "\n",
      "           0       0.95      0.78      0.86      2827\n",
      "           1       0.17      0.76      0.28       109\n",
      "           2       0.63      0.79      0.70       458\n",
      "\n",
      "    accuracy                           0.79      3394\n",
      "   macro avg       0.58      0.78      0.61      3394\n",
      "weighted avg       0.88      0.79      0.82      3394\n",
      "\n"
     ]
    }
   ],
   "source": [
    "print(classification_report(y_test, grid_predictions)) "
   ]
  },
  {
   "cell_type": "code",
   "execution_count": null,
   "metadata": {},
   "outputs": [],
   "source": []
  },
  {
   "cell_type": "code",
   "execution_count": 18,
   "metadata": {},
   "outputs": [
    {
     "name": "stdout",
     "output_type": "stream",
     "text": [
      "n_iterations: 33\n",
      "n_required_iterations: 33\n",
      "n_possible_iterations: 36\n",
      "min_resources_: 30\n",
      "max_resources_: 19256\n",
      "aggressive_elimination: False\n",
      "factor: 1.2\n",
      "----------\n",
      "iter: 0\n",
      "n_candidates: 360\n",
      "n_resources: 30\n",
      "Fitting 5 folds for each of 360 candidates, totalling 1800 fits\n"
     ]
    },
    {
     "name": "stderr",
     "output_type": "stream",
     "text": [
      "C:\\Users\\kaush\\anaconda3\\lib\\site-packages\\sklearn\\model_selection\\_search.py:292: UserWarning: The total space of parameters 360 is smaller than n_iter=641. Running 360 iterations. For exhaustive searches, use GridSearchCV.\n",
      "  warnings.warn(\n"
     ]
    },
    {
     "name": "stdout",
     "output_type": "stream",
     "text": [
      "----------\n",
      "iter: 1\n",
      "n_candidates: 300\n",
      "n_resources: 36\n",
      "Fitting 5 folds for each of 300 candidates, totalling 1500 fits\n",
      "----------\n",
      "iter: 2\n",
      "n_candidates: 250\n",
      "n_resources: 43\n",
      "Fitting 5 folds for each of 250 candidates, totalling 1250 fits\n",
      "----------\n",
      "iter: 3\n",
      "n_candidates: 209\n",
      "n_resources: 51\n",
      "Fitting 5 folds for each of 209 candidates, totalling 1045 fits\n",
      "----------\n",
      "iter: 4\n",
      "n_candidates: 175\n",
      "n_resources: 62\n",
      "Fitting 5 folds for each of 175 candidates, totalling 875 fits\n",
      "----------\n",
      "iter: 5\n",
      "n_candidates: 146\n",
      "n_resources: 74\n",
      "Fitting 5 folds for each of 146 candidates, totalling 730 fits\n",
      "----------\n",
      "iter: 6\n",
      "n_candidates: 122\n",
      "n_resources: 89\n",
      "Fitting 5 folds for each of 122 candidates, totalling 610 fits\n",
      "----------\n",
      "iter: 7\n",
      "n_candidates: 102\n",
      "n_resources: 107\n",
      "Fitting 5 folds for each of 102 candidates, totalling 510 fits\n",
      "----------\n",
      "iter: 8\n",
      "n_candidates: 85\n",
      "n_resources: 128\n",
      "Fitting 5 folds for each of 85 candidates, totalling 425 fits\n",
      "----------\n",
      "iter: 9\n",
      "n_candidates: 71\n",
      "n_resources: 154\n",
      "Fitting 5 folds for each of 71 candidates, totalling 355 fits\n",
      "----------\n",
      "iter: 10\n",
      "n_candidates: 60\n",
      "n_resources: 185\n",
      "Fitting 5 folds for each of 60 candidates, totalling 300 fits\n",
      "----------\n",
      "iter: 11\n",
      "n_candidates: 50\n",
      "n_resources: 222\n",
      "Fitting 5 folds for each of 50 candidates, totalling 250 fits\n",
      "----------\n",
      "iter: 12\n",
      "n_candidates: 42\n",
      "n_resources: 267\n",
      "Fitting 5 folds for each of 42 candidates, totalling 210 fits\n",
      "----------\n",
      "iter: 13\n",
      "n_candidates: 35\n",
      "n_resources: 320\n",
      "Fitting 5 folds for each of 35 candidates, totalling 175 fits\n",
      "----------\n",
      "iter: 14\n",
      "n_candidates: 30\n",
      "n_resources: 385\n",
      "Fitting 5 folds for each of 30 candidates, totalling 150 fits\n",
      "----------\n",
      "iter: 15\n",
      "n_candidates: 25\n",
      "n_resources: 462\n",
      "Fitting 5 folds for each of 25 candidates, totalling 125 fits\n",
      "----------\n",
      "iter: 16\n",
      "n_candidates: 21\n",
      "n_resources: 554\n",
      "Fitting 5 folds for each of 21 candidates, totalling 105 fits\n",
      "----------\n",
      "iter: 17\n",
      "n_candidates: 18\n",
      "n_resources: 665\n",
      "Fitting 5 folds for each of 18 candidates, totalling 90 fits\n",
      "----------\n",
      "iter: 18\n",
      "n_candidates: 15\n",
      "n_resources: 798\n",
      "Fitting 5 folds for each of 15 candidates, totalling 75 fits\n",
      "----------\n",
      "iter: 19\n",
      "n_candidates: 13\n",
      "n_resources: 958\n",
      "Fitting 5 folds for each of 13 candidates, totalling 65 fits\n",
      "----------\n",
      "iter: 20\n",
      "n_candidates: 11\n",
      "n_resources: 1150\n",
      "Fitting 5 folds for each of 11 candidates, totalling 55 fits\n",
      "----------\n",
      "iter: 21\n",
      "n_candidates: 10\n",
      "n_resources: 1380\n",
      "Fitting 5 folds for each of 10 candidates, totalling 50 fits\n",
      "----------\n",
      "iter: 22\n",
      "n_candidates: 9\n",
      "n_resources: 1656\n",
      "Fitting 5 folds for each of 9 candidates, totalling 45 fits\n",
      "----------\n",
      "iter: 23\n",
      "n_candidates: 8\n",
      "n_resources: 1987\n",
      "Fitting 5 folds for each of 8 candidates, totalling 40 fits\n",
      "----------\n",
      "iter: 24\n",
      "n_candidates: 7\n",
      "n_resources: 2384\n",
      "Fitting 5 folds for each of 7 candidates, totalling 35 fits\n",
      "----------\n",
      "iter: 25\n",
      "n_candidates: 6\n",
      "n_resources: 2861\n",
      "Fitting 5 folds for each of 6 candidates, totalling 30 fits\n",
      "----------\n",
      "iter: 26\n",
      "n_candidates: 5\n",
      "n_resources: 3434\n",
      "Fitting 5 folds for each of 5 candidates, totalling 25 fits\n",
      "----------\n",
      "iter: 27\n",
      "n_candidates: 5\n",
      "n_resources: 4121\n",
      "Fitting 5 folds for each of 5 candidates, totalling 25 fits\n",
      "----------\n",
      "iter: 28\n",
      "n_candidates: 5\n",
      "n_resources: 4945\n",
      "Fitting 5 folds for each of 5 candidates, totalling 25 fits\n",
      "----------\n",
      "iter: 29\n",
      "n_candidates: 5\n",
      "n_resources: 5934\n",
      "Fitting 5 folds for each of 5 candidates, totalling 25 fits\n",
      "----------\n",
      "iter: 30\n",
      "n_candidates: 5\n",
      "n_resources: 7121\n",
      "Fitting 5 folds for each of 5 candidates, totalling 25 fits\n",
      "----------\n",
      "iter: 31\n",
      "n_candidates: 5\n",
      "n_resources: 8545\n",
      "Fitting 5 folds for each of 5 candidates, totalling 25 fits\n",
      "----------\n",
      "iter: 32\n",
      "n_candidates: 5\n",
      "n_resources: 10254\n",
      "Fitting 5 folds for each of 5 candidates, totalling 25 fits\n"
     ]
    },
    {
     "data": {
      "text/plain": [
       "HalvingRandomSearchCV(estimator=DecisionTreeClassifier(), factor=1.2, n_jobs=-1,\n",
       "                      param_distributions={'class_weight': ['balanced', None],\n",
       "                                           'criterion': ['gini', 'entropy'],\n",
       "                                           'max_depth': [None, 3, 5, 9, 15],\n",
       "                                           'max_features': ['auto', 'log2',\n",
       "                                                            None],\n",
       "                                           'min_samples_split': [2, 4, 8],\n",
       "                                           'splitter': ['best', 'random']},\n",
       "                      verbose=2)"
      ]
     },
     "execution_count": 18,
     "metadata": {},
     "output_type": "execute_result"
    }
   ],
   "source": [
    "dt_clf = DecisionTreeClassifier()\n",
    "grid = HalvingRandomSearchCV(estimator = dt_clf, param_distributions = param_grid, refit = True, verbose = 2, n_jobs=-1, factor = 1.2)\n",
    "# fitting the model for grid search \n",
    "grid.fit(X_train_std, y_train.ravel())  "
   ]
  },
  {
   "cell_type": "code",
   "execution_count": 19,
   "metadata": {},
   "outputs": [
    {
     "name": "stdout",
     "output_type": "stream",
     "text": [
      "{'splitter': 'best', 'min_samples_split': 2, 'max_features': None, 'max_depth': None, 'criterion': 'entropy', 'class_weight': 'balanced'}\n"
     ]
    }
   ],
   "source": [
    "# print best parameter after tuning \n",
    "print(grid.best_params_) \n",
    "grid_predictions = grid.predict(X_test_std)"
   ]
  },
  {
   "cell_type": "code",
   "execution_count": 20,
   "metadata": {},
   "outputs": [
    {
     "name": "stdout",
     "output_type": "stream",
     "text": [
      "              precision    recall  f1-score   support\n",
      "\n",
      "           0       0.97      0.99      0.98      2827\n",
      "           1       0.94      0.74      0.83       109\n",
      "           2       0.93      0.90      0.91       458\n",
      "\n",
      "    accuracy                           0.97      3394\n",
      "   macro avg       0.95      0.88      0.91      3394\n",
      "weighted avg       0.97      0.97      0.97      3394\n",
      "\n"
     ]
    }
   ],
   "source": [
    "print(classification_report(y_test, grid_predictions)) "
   ]
  },
  {
   "cell_type": "code",
   "execution_count": null,
   "metadata": {},
   "outputs": [],
   "source": []
  }
 ],
 "metadata": {
  "kernelspec": {
   "display_name": "Python 3 (ipykernel)",
   "language": "python",
   "name": "python3"
  },
  "language_info": {
   "codemirror_mode": {
    "name": "ipython",
    "version": 3
   },
   "file_extension": ".py",
   "mimetype": "text/x-python",
   "name": "python",
   "nbconvert_exporter": "python",
   "pygments_lexer": "ipython3",
   "version": "3.8.5"
  }
 },
 "nbformat": 4,
 "nbformat_minor": 4
}
