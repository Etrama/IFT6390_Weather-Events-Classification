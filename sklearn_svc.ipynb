{
 "cells": [
  {
   "cell_type": "code",
   "execution_count": 1,
   "metadata": {},
   "outputs": [],
   "source": [
    "import numpy as np\n",
    "import scipy #only sparse matrices allowed\n",
    "import pandas as pd\n",
    "import matplotlib.pyplot as plt"
   ]
  },
  {
   "cell_type": "code",
   "execution_count": 2,
   "metadata": {},
   "outputs": [],
   "source": [
    "from sklearn.metrics import classification_report\n",
    "from sklearn.metrics import confusion_matrix\n",
    "from sklearn.metrics import accuracy_score"
   ]
  },
  {
   "cell_type": "code",
   "execution_count": 3,
   "metadata": {},
   "outputs": [],
   "source": [
    "from sklearn.linear_model import LogisticRegression\n",
    "from sklearn.svm import SVC\n",
    "from sklearn.naive_bayes import GaussianNB\n",
    "from sklearn.naive_bayes import MultinomialNB\n",
    "from sklearn.linear_model import SGDClassifier\n",
    "from sklearn.neighbors import KNeighborsClassifier\n",
    "from sklearn.tree import DecisionTreeClassifier\n",
    "from sklearn.ensemble import RandomForestClassifier\n",
    "from sklearn.ensemble import GradientBoostingClassifier\n",
    "from lightgbm import LGBMClassifier\n",
    "from xgboost.sklearn import XGBClassifier"
   ]
  },
  {
   "cell_type": "code",
   "execution_count": 20,
   "metadata": {},
   "outputs": [],
   "source": [
    "#https://scikit-learn.org/stable/modules/generated/sklearn.linear_model.LogisticRegression.html\n",
    "svc_clf = SVC(gamma='auto').fit(X_train,y_train.ravel())\n",
    "svc_predictions = svc_clf.predict(X_test)\n",
    "svc_accuracy = svc_clf.score(X_test, y_test.ravel())"
   ]
  },
  {
   "cell_type": "code",
   "execution_count": 21,
   "metadata": {},
   "outputs": [
    {
     "data": {
      "text/plain": [
       "0.8781065088757396"
      ]
     },
     "execution_count": 21,
     "metadata": {},
     "output_type": "execute_result"
    }
   ],
   "source": [
    "svc_accuracy"
   ]
  },
  {
   "cell_type": "code",
   "execution_count": 4,
   "metadata": {},
   "outputs": [],
   "source": [
    "#https://stackoverflow.com/questions/3518778/how-do-i-read-csv-data-into-a-record-array-in-numpy\n",
    "from numpy import genfromtxt\n",
    "X_test_std = genfromtxt('X_test_std.csv', delimiter=',')\n",
    "X_train_ada_std = genfromtxt('X_train_ada_std.csv', delimiter=',')\n",
    "X_train_std = genfromtxt('X_train_std.csv', delimiter=',')\n",
    "\n",
    "y_test = genfromtxt('y_test.csv', delimiter=',')\n",
    "y_train_ada = genfromtxt('y_train_ada.csv', delimiter=',')\n",
    "y_train = genfromtxt('y_train.csv', delimiter=',')\n",
    "\n",
    "y_test = y_test.astype(int)\n",
    "y_train_ada = y_train_ada.astype(int)\n",
    "y_train = y_train.astype(int)"
   ]
  },
  {
   "cell_type": "markdown",
   "metadata": {},
   "source": [
    "# Gridsearch for best hyperparameters:"
   ]
  },
  {
   "cell_type": "code",
   "execution_count": 5,
   "metadata": {},
   "outputs": [],
   "source": [
    "from sklearn.model_selection import GridSearchCV\n",
    "from sklearn.experimental import enable_halving_search_cv  # noqa\n",
    "from sklearn.model_selection import HalvingRandomSearchCV\n",
    "from sklearn.model_selection import RandomizedSearchCV"
   ]
  },
  {
   "cell_type": "code",
   "execution_count": 6,
   "metadata": {},
   "outputs": [],
   "source": [
    "#https://www.analyticsvidhya.com/blog/2021/06/tune-hyperparameters-with-gridsearchcv/\n",
    "#https://www.mygreatlearning.com/blog/gridsearchcv/"
   ]
  },
  {
   "cell_type": "code",
   "execution_count": 7,
   "metadata": {},
   "outputs": [],
   "source": [
    "param_grid = {\n",
    "    'C' : [0.5, 1.0, 1.5, 2.0],\n",
    "    'kernel' : ['linear', 'poly', 'rbf', 'sigmoid'],\n",
    "    'degree' : [3, 5, 7, 10],\n",
    "    'gamma' : ['scale','auto'],\n",
    "    'class_weight' : ['balanced', None]\n",
    "}"
   ]
  },
  {
   "cell_type": "code",
   "execution_count": 8,
   "metadata": {
    "collapsed": true,
    "jupyter": {
     "outputs_hidden": true
    }
   },
   "outputs": [
    {
     "name": "stdout",
     "output_type": "stream",
     "text": [
      "n_iterations: 14\n",
      "n_required_iterations: 14\n",
      "n_possible_iterations: 19\n",
      "min_resources_: 30\n",
      "max_resources_: 47961\n",
      "aggressive_elimination: False\n",
      "factor: 1.5\n",
      "----------\n",
      "iter: 0\n",
      "n_candidates: 256\n",
      "n_resources: 30\n",
      "Fitting 5 folds for each of 256 candidates, totalling 1280 fits\n"
     ]
    },
    {
     "name": "stderr",
     "output_type": "stream",
     "text": [
      "C:\\Users\\kaush\\anaconda3\\lib\\site-packages\\sklearn\\model_selection\\_search.py:292: UserWarning: The total space of parameters 256 is smaller than n_iter=1598. Running 256 iterations. For exhaustive searches, use GridSearchCV.\n",
      "  warnings.warn(\n"
     ]
    },
    {
     "name": "stdout",
     "output_type": "stream",
     "text": [
      "----------\n",
      "iter: 1\n",
      "n_candidates: 171\n",
      "n_resources: 45\n",
      "Fitting 5 folds for each of 171 candidates, totalling 855 fits\n",
      "----------\n",
      "iter: 2\n",
      "n_candidates: 114\n",
      "n_resources: 67\n",
      "Fitting 5 folds for each of 114 candidates, totalling 570 fits\n",
      "----------\n",
      "iter: 3\n",
      "n_candidates: 76\n",
      "n_resources: 101\n",
      "Fitting 5 folds for each of 76 candidates, totalling 380 fits\n",
      "----------\n",
      "iter: 4\n",
      "n_candidates: 51\n",
      "n_resources: 151\n",
      "Fitting 5 folds for each of 51 candidates, totalling 255 fits\n",
      "----------\n",
      "iter: 5\n",
      "n_candidates: 34\n",
      "n_resources: 227\n",
      "Fitting 5 folds for each of 34 candidates, totalling 170 fits\n",
      "----------\n",
      "iter: 6\n",
      "n_candidates: 23\n",
      "n_resources: 341\n",
      "Fitting 5 folds for each of 23 candidates, totalling 115 fits\n",
      "----------\n",
      "iter: 7\n",
      "n_candidates: 16\n",
      "n_resources: 512\n",
      "Fitting 5 folds for each of 16 candidates, totalling 80 fits\n",
      "----------\n",
      "iter: 8\n",
      "n_candidates: 11\n",
      "n_resources: 768\n",
      "Fitting 5 folds for each of 11 candidates, totalling 55 fits\n",
      "----------\n",
      "iter: 9\n",
      "n_candidates: 8\n",
      "n_resources: 1153\n",
      "Fitting 5 folds for each of 8 candidates, totalling 40 fits\n",
      "----------\n",
      "iter: 10\n",
      "n_candidates: 6\n",
      "n_resources: 1729\n",
      "Fitting 5 folds for each of 6 candidates, totalling 30 fits\n",
      "----------\n",
      "iter: 11\n",
      "n_candidates: 4\n",
      "n_resources: 2594\n",
      "Fitting 5 folds for each of 4 candidates, totalling 20 fits\n",
      "----------\n",
      "iter: 12\n",
      "n_candidates: 3\n",
      "n_resources: 3892\n",
      "Fitting 5 folds for each of 3 candidates, totalling 15 fits\n",
      "----------\n",
      "iter: 13\n",
      "n_candidates: 2\n",
      "n_resources: 5838\n",
      "Fitting 5 folds for each of 2 candidates, totalling 10 fits\n"
     ]
    },
    {
     "data": {
      "text/plain": [
       "HalvingRandomSearchCV(estimator=SVC(), factor=1.5, n_jobs=-1,\n",
       "                      param_distributions={'C': [0.5, 1.0, 1.5, 2.0],\n",
       "                                           'class_weight': ['balanced', None],\n",
       "                                           'degree': [3, 5, 7, 10],\n",
       "                                           'gamma': ['scale', 'auto'],\n",
       "                                           'kernel': ['linear', 'poly', 'rbf',\n",
       "                                                      'sigmoid']},\n",
       "                      verbose=2)"
      ]
     },
     "execution_count": 8,
     "metadata": {},
     "output_type": "execute_result"
    }
   ],
   "source": [
    "svc_clf = SVC()\n",
    "grid = HalvingRandomSearchCV(estimator = svc_clf, param_distributions = param_grid, refit = True, verbose = 2, n_jobs=-1, factor = 1.5)\n",
    "# fitting the model for grid search \n",
    "grid.fit(X_train_ada_std, y_train_ada.ravel()) "
   ]
  },
  {
   "cell_type": "code",
   "execution_count": 9,
   "metadata": {},
   "outputs": [
    {
     "name": "stdout",
     "output_type": "stream",
     "text": [
      "{'kernel': 'rbf', 'gamma': 'auto', 'degree': 10, 'class_weight': 'balanced', 'C': 1.5}\n"
     ]
    }
   ],
   "source": [
    "# print best parameter after tuning \n",
    "print(grid.best_params_) \n",
    "grid_predictions = grid.predict(X_test_std)"
   ]
  },
  {
   "cell_type": "code",
   "execution_count": 10,
   "metadata": {},
   "outputs": [
    {
     "name": "stdout",
     "output_type": "stream",
     "text": [
      "              precision    recall  f1-score   support\n",
      "\n",
      "           0       0.99      0.81      0.89      2827\n",
      "           1       0.29      0.98      0.44       109\n",
      "           2       0.62      0.97      0.76       458\n",
      "\n",
      "    accuracy                           0.84      3394\n",
      "   macro avg       0.63      0.92      0.70      3394\n",
      "weighted avg       0.92      0.84      0.86      3394\n",
      "\n"
     ]
    }
   ],
   "source": [
    "print(classification_report(y_test, grid_predictions)) "
   ]
  },
  {
   "cell_type": "code",
   "execution_count": null,
   "metadata": {},
   "outputs": [],
   "source": []
  },
  {
   "cell_type": "code",
   "execution_count": 11,
   "metadata": {
    "collapsed": true,
    "jupyter": {
     "outputs_hidden": true
    }
   },
   "outputs": [
    {
     "name": "stdout",
     "output_type": "stream",
     "text": [
      "n_iterations: 14\n",
      "n_required_iterations: 14\n",
      "n_possible_iterations: 16\n",
      "min_resources_: 30\n",
      "max_resources_: 19256\n",
      "aggressive_elimination: False\n",
      "factor: 1.5\n",
      "----------\n",
      "iter: 0\n",
      "n_candidates: 256\n",
      "n_resources: 30\n",
      "Fitting 5 folds for each of 256 candidates, totalling 1280 fits\n"
     ]
    },
    {
     "name": "stderr",
     "output_type": "stream",
     "text": [
      "C:\\Users\\kaush\\anaconda3\\lib\\site-packages\\sklearn\\model_selection\\_search.py:292: UserWarning: The total space of parameters 256 is smaller than n_iter=641. Running 256 iterations. For exhaustive searches, use GridSearchCV.\n",
      "  warnings.warn(\n"
     ]
    },
    {
     "name": "stdout",
     "output_type": "stream",
     "text": [
      "----------\n",
      "iter: 1\n",
      "n_candidates: 171\n",
      "n_resources: 45\n",
      "Fitting 5 folds for each of 171 candidates, totalling 855 fits\n",
      "----------\n",
      "iter: 2\n",
      "n_candidates: 114\n",
      "n_resources: 67\n",
      "Fitting 5 folds for each of 114 candidates, totalling 570 fits\n",
      "----------\n",
      "iter: 3\n",
      "n_candidates: 76\n",
      "n_resources: 101\n",
      "Fitting 5 folds for each of 76 candidates, totalling 380 fits\n",
      "----------\n",
      "iter: 4\n",
      "n_candidates: 51\n",
      "n_resources: 151\n",
      "Fitting 5 folds for each of 51 candidates, totalling 255 fits\n",
      "----------\n",
      "iter: 5\n",
      "n_candidates: 34\n",
      "n_resources: 227\n",
      "Fitting 5 folds for each of 34 candidates, totalling 170 fits\n",
      "----------\n",
      "iter: 6\n",
      "n_candidates: 23\n",
      "n_resources: 341\n",
      "Fitting 5 folds for each of 23 candidates, totalling 115 fits\n",
      "----------\n",
      "iter: 7\n",
      "n_candidates: 16\n",
      "n_resources: 512\n",
      "Fitting 5 folds for each of 16 candidates, totalling 80 fits\n",
      "----------\n",
      "iter: 8\n",
      "n_candidates: 11\n",
      "n_resources: 768\n",
      "Fitting 5 folds for each of 11 candidates, totalling 55 fits\n",
      "----------\n",
      "iter: 9\n",
      "n_candidates: 8\n",
      "n_resources: 1153\n",
      "Fitting 5 folds for each of 8 candidates, totalling 40 fits\n",
      "----------\n",
      "iter: 10\n",
      "n_candidates: 6\n",
      "n_resources: 1729\n",
      "Fitting 5 folds for each of 6 candidates, totalling 30 fits\n",
      "----------\n",
      "iter: 11\n",
      "n_candidates: 4\n",
      "n_resources: 2594\n",
      "Fitting 5 folds for each of 4 candidates, totalling 20 fits\n",
      "----------\n",
      "iter: 12\n",
      "n_candidates: 3\n",
      "n_resources: 3892\n",
      "Fitting 5 folds for each of 3 candidates, totalling 15 fits\n",
      "----------\n",
      "iter: 13\n",
      "n_candidates: 2\n",
      "n_resources: 5838\n",
      "Fitting 5 folds for each of 2 candidates, totalling 10 fits\n"
     ]
    },
    {
     "data": {
      "text/plain": [
       "HalvingRandomSearchCV(estimator=SVC(), factor=1.5, n_jobs=-1,\n",
       "                      param_distributions={'C': [0.5, 1.0, 1.5, 2.0],\n",
       "                                           'class_weight': ['balanced', None],\n",
       "                                           'degree': [3, 5, 7, 10],\n",
       "                                           'gamma': ['scale', 'auto'],\n",
       "                                           'kernel': ['linear', 'poly', 'rbf',\n",
       "                                                      'sigmoid']},\n",
       "                      verbose=2)"
      ]
     },
     "execution_count": 11,
     "metadata": {},
     "output_type": "execute_result"
    }
   ],
   "source": [
    "svc_clf = SVC()\n",
    "grid = HalvingRandomSearchCV(estimator = svc_clf, param_distributions = param_grid, refit = True, verbose = 2, n_jobs=-1, factor = 1.5)\n",
    "# fitting the model for grid search \n",
    "grid.fit(X_train_std, y_train.ravel()) "
   ]
  },
  {
   "cell_type": "code",
   "execution_count": 12,
   "metadata": {},
   "outputs": [
    {
     "name": "stdout",
     "output_type": "stream",
     "text": [
      "{'kernel': 'rbf', 'gamma': 'scale', 'degree': 5, 'class_weight': None, 'C': 2.0}\n"
     ]
    }
   ],
   "source": [
    "# print best parameter after tuning \n",
    "print(grid.best_params_) \n",
    "grid_predictions = grid.predict(X_test_std)"
   ]
  },
  {
   "cell_type": "code",
   "execution_count": 13,
   "metadata": {},
   "outputs": [
    {
     "name": "stdout",
     "output_type": "stream",
     "text": [
      "              precision    recall  f1-score   support\n",
      "\n",
      "           0       0.96      1.00      0.98      2827\n",
      "           1       1.00      0.70      0.82       109\n",
      "           2       0.99      0.82      0.89       458\n",
      "\n",
      "    accuracy                           0.96      3394\n",
      "   macro avg       0.98      0.84      0.90      3394\n",
      "weighted avg       0.97      0.96      0.96      3394\n",
      "\n"
     ]
    }
   ],
   "source": [
    "print(classification_report(y_test, grid_predictions)) "
   ]
  },
  {
   "cell_type": "code",
   "execution_count": null,
   "metadata": {},
   "outputs": [],
   "source": []
  }
 ],
 "metadata": {
  "kernelspec": {
   "display_name": "Python 3 (ipykernel)",
   "language": "python",
   "name": "python3"
  },
  "language_info": {
   "codemirror_mode": {
    "name": "ipython",
    "version": 3
   },
   "file_extension": ".py",
   "mimetype": "text/x-python",
   "name": "python",
   "nbconvert_exporter": "python",
   "pygments_lexer": "ipython3",
   "version": "3.8.5"
  }
 },
 "nbformat": 4,
 "nbformat_minor": 4
}
