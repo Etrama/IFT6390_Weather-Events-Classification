{
 "cells": [
  {
   "cell_type": "code",
   "execution_count": 1,
   "metadata": {},
   "outputs": [],
   "source": [
    "import numpy as np\n",
    "import scipy #only sparse matrices allowed\n",
    "import pandas as pd\n",
    "import matplotlib.pyplot as plt"
   ]
  },
  {
   "cell_type": "code",
   "execution_count": 2,
   "metadata": {},
   "outputs": [],
   "source": [
    "from sklearn.metrics import classification_report\n",
    "from sklearn.metrics import confusion_matrix\n",
    "from sklearn.metrics import accuracy_score"
   ]
  },
  {
   "cell_type": "code",
   "execution_count": 3,
   "metadata": {},
   "outputs": [],
   "source": [
    "from sklearn.linear_model import LogisticRegression\n",
    "from sklearn.svm import SVC\n",
    "from sklearn.naive_bayes import GaussianNB\n",
    "from sklearn.naive_bayes import MultinomialNB\n",
    "from sklearn.linear_model import SGDClassifier\n",
    "from sklearn.neighbors import KNeighborsClassifier\n",
    "from sklearn.tree import DecisionTreeClassifier\n",
    "from sklearn.ensemble import RandomForestClassifier\n",
    "from sklearn.ensemble import GradientBoostingClassifier\n",
    "from lightgbm import LGBMClassifier\n",
    "from xgboost.sklearn import XGBClassifier"
   ]
  },
  {
   "cell_type": "code",
   "execution_count": 20,
   "metadata": {},
   "outputs": [],
   "source": [
    "#https://scikit-learn.org/stable/modules/generated/sklearn.linear_model.LogisticRegression.html\n",
    "sgd_clf = SGDClassifier().fit(X_train,y_train.ravel())\n",
    "sgd_predictions = sgd_clf.predict(X_test)\n",
    "sgd_accuracy = sgd_clf.score(X_test, y_test.ravel())"
   ]
  },
  {
   "cell_type": "code",
   "execution_count": 21,
   "metadata": {},
   "outputs": [
    {
     "data": {
      "text/plain": [
       "0.8164201183431953"
      ]
     },
     "execution_count": 21,
     "metadata": {},
     "output_type": "execute_result"
    }
   ],
   "source": [
    "sgd_accuracy"
   ]
  },
  {
   "cell_type": "code",
   "execution_count": 4,
   "metadata": {},
   "outputs": [],
   "source": [
    "#https://stackoverflow.com/questions/3518778/how-do-i-read-csv-data-into-a-record-array-in-numpy\n",
    "from numpy import genfromtxt\n",
    "X_test_std = genfromtxt('X_test_std.csv', delimiter=',')\n",
    "X_train_ada_std = genfromtxt('X_train_ada_std.csv', delimiter=',')\n",
    "X_train_std = genfromtxt('X_train_std.csv', delimiter=',')\n",
    "\n",
    "y_test = genfromtxt('y_test.csv', delimiter=',')\n",
    "y_train_ada = genfromtxt('y_train_ada.csv', delimiter=',')\n",
    "y_train = genfromtxt('y_train.csv', delimiter=',')\n",
    "\n",
    "y_test = y_test.astype(int)\n",
    "y_train_ada = y_train_ada.astype(int)\n",
    "y_train = y_train.astype(int)"
   ]
  },
  {
   "cell_type": "markdown",
   "metadata": {},
   "source": [
    "# Gridsearch for best hyperparameters:"
   ]
  },
  {
   "cell_type": "code",
   "execution_count": 5,
   "metadata": {},
   "outputs": [],
   "source": [
    "from sklearn.model_selection import GridSearchCV\n",
    "from sklearn.experimental import enable_halving_search_cv  # noqa\n",
    "from sklearn.model_selection import HalvingRandomSearchCV\n",
    "from sklearn.model_selection import RandomizedSearchCV"
   ]
  },
  {
   "cell_type": "code",
   "execution_count": 6,
   "metadata": {},
   "outputs": [],
   "source": [
    "#https://www.analyticsvidhya.com/blog/2021/06/tune-hyperparameters-with-gridsearchcv/\n",
    "#https://www.mygreatlearning.com/blog/gridsearchcv/"
   ]
  },
  {
   "cell_type": "code",
   "execution_count": 17,
   "metadata": {},
   "outputs": [],
   "source": [
    "param_grid = {\n",
    "    'penalty' : ['l2', 'l1', 'elasticnet'],\n",
    "    'alpha' : [0.0001, 0.001, 0.01],\n",
    "    'max_iter' : [500, 1000, 10000],\n",
    "    'tol' : [1e-2, 1e-3, 1e-4],\n",
    "    #'learning_rate' : ['constant', 'optimal', 'invscaling'], #'adaptive'\n",
    "    'class_weight' : ['balanced', None]\n",
    "}"
   ]
  },
  {
   "cell_type": "code",
   "execution_count": 18,
   "metadata": {
    "collapsed": true,
    "jupyter": {
     "outputs_hidden": true
    }
   },
   "outputs": [
    {
     "name": "stdout",
     "output_type": "stream",
     "text": [
      "n_iterations: 13\n",
      "n_required_iterations: 13\n",
      "n_possible_iterations: 19\n",
      "min_resources_: 30\n",
      "max_resources_: 47961\n",
      "aggressive_elimination: False\n",
      "factor: 1.5\n",
      "----------\n",
      "iter: 0\n",
      "n_candidates: 162\n",
      "n_resources: 30\n",
      "Fitting 5 folds for each of 162 candidates, totalling 810 fits\n"
     ]
    },
    {
     "name": "stderr",
     "output_type": "stream",
     "text": [
      "C:\\Users\\kaush\\anaconda3\\lib\\site-packages\\sklearn\\model_selection\\_search.py:292: UserWarning: The total space of parameters 162 is smaller than n_iter=1598. Running 162 iterations. For exhaustive searches, use GridSearchCV.\n",
      "  warnings.warn(\n"
     ]
    },
    {
     "name": "stdout",
     "output_type": "stream",
     "text": [
      "----------\n",
      "iter: 1\n",
      "n_candidates: 108\n",
      "n_resources: 45\n",
      "Fitting 5 folds for each of 108 candidates, totalling 540 fits\n",
      "----------\n",
      "iter: 2\n",
      "n_candidates: 72\n",
      "n_resources: 67\n",
      "Fitting 5 folds for each of 72 candidates, totalling 360 fits\n",
      "----------\n",
      "iter: 3\n",
      "n_candidates: 48\n",
      "n_resources: 101\n",
      "Fitting 5 folds for each of 48 candidates, totalling 240 fits\n",
      "----------\n",
      "iter: 4\n",
      "n_candidates: 32\n",
      "n_resources: 151\n",
      "Fitting 5 folds for each of 32 candidates, totalling 160 fits\n",
      "----------\n",
      "iter: 5\n",
      "n_candidates: 22\n",
      "n_resources: 227\n",
      "Fitting 5 folds for each of 22 candidates, totalling 110 fits\n",
      "----------\n",
      "iter: 6\n",
      "n_candidates: 15\n",
      "n_resources: 341\n",
      "Fitting 5 folds for each of 15 candidates, totalling 75 fits\n",
      "----------\n",
      "iter: 7\n",
      "n_candidates: 10\n",
      "n_resources: 512\n",
      "Fitting 5 folds for each of 10 candidates, totalling 50 fits\n",
      "----------\n",
      "iter: 8\n",
      "n_candidates: 7\n",
      "n_resources: 768\n",
      "Fitting 5 folds for each of 7 candidates, totalling 35 fits\n",
      "----------\n",
      "iter: 9\n",
      "n_candidates: 5\n",
      "n_resources: 1153\n",
      "Fitting 5 folds for each of 5 candidates, totalling 25 fits\n",
      "----------\n",
      "iter: 10\n",
      "n_candidates: 4\n",
      "n_resources: 1729\n",
      "Fitting 5 folds for each of 4 candidates, totalling 20 fits\n",
      "----------\n",
      "iter: 11\n",
      "n_candidates: 3\n",
      "n_resources: 2594\n",
      "Fitting 5 folds for each of 3 candidates, totalling 15 fits\n",
      "----------\n",
      "iter: 12\n",
      "n_candidates: 2\n",
      "n_resources: 3892\n",
      "Fitting 5 folds for each of 2 candidates, totalling 10 fits\n"
     ]
    },
    {
     "data": {
      "text/plain": [
       "HalvingRandomSearchCV(estimator=SGDClassifier(), factor=1.5, n_jobs=-1,\n",
       "                      param_distributions={'alpha': [0.0001, 0.001, 0.01],\n",
       "                                           'class_weight': ['balanced', None],\n",
       "                                           'max_iter': [500, 1000, 10000],\n",
       "                                           'penalty': ['l2', 'l1',\n",
       "                                                       'elasticnet'],\n",
       "                                           'tol': [0.01, 0.001, 0.0001]},\n",
       "                      verbose=2)"
      ]
     },
     "execution_count": 18,
     "metadata": {},
     "output_type": "execute_result"
    }
   ],
   "source": [
    "sgd_clf = SGDClassifier()\n",
    "grid = HalvingRandomSearchCV(estimator = sgd_clf, param_distributions = param_grid, refit = True, verbose = 2, n_jobs=-1, factor = 1.5, return_train_score = True)\n",
    "# fitting the model for grid search \n",
    "grid.fit(X_train_ada_std, y_train_ada.ravel()) "
   ]
  },
  {
   "cell_type": "code",
   "execution_count": 21,
   "metadata": {},
   "outputs": [],
   "source": [
    "#grid.cv_results_"
   ]
  },
  {
   "cell_type": "code",
   "execution_count": 22,
   "metadata": {},
   "outputs": [
    {
     "name": "stdout",
     "output_type": "stream",
     "text": [
      "{'tol': 0.01, 'penalty': 'l2', 'max_iter': 10000, 'class_weight': 'balanced', 'alpha': 0.01}\n"
     ]
    }
   ],
   "source": [
    "# print best parameter after tuning \n",
    "print(grid.best_params_) \n",
    "grid_predictions = grid.predict(X_test_std)"
   ]
  },
  {
   "cell_type": "code",
   "execution_count": 23,
   "metadata": {},
   "outputs": [
    {
     "name": "stdout",
     "output_type": "stream",
     "text": [
      "              precision    recall  f1-score   support\n",
      "\n",
      "           0       0.99      0.31      0.47      2827\n",
      "           1       0.11      0.99      0.19       109\n",
      "           2       0.30      0.97      0.46       458\n",
      "\n",
      "    accuracy                           0.42      3394\n",
      "   macro avg       0.47      0.76      0.37      3394\n",
      "weighted avg       0.87      0.42      0.46      3394\n",
      "\n"
     ]
    }
   ],
   "source": [
    "print(classification_report(y_test, grid_predictions)) "
   ]
  },
  {
   "cell_type": "code",
   "execution_count": null,
   "metadata": {},
   "outputs": [],
   "source": []
  },
  {
   "cell_type": "code",
   "execution_count": 24,
   "metadata": {
    "collapsed": true,
    "jupyter": {
     "outputs_hidden": true
    }
   },
   "outputs": [
    {
     "name": "stdout",
     "output_type": "stream",
     "text": [
      "n_iterations: 13\n",
      "n_required_iterations: 13\n",
      "n_possible_iterations: 16\n",
      "min_resources_: 30\n",
      "max_resources_: 19256\n",
      "aggressive_elimination: False\n",
      "factor: 1.5\n",
      "----------\n",
      "iter: 0\n",
      "n_candidates: 162\n",
      "n_resources: 30\n",
      "Fitting 5 folds for each of 162 candidates, totalling 810 fits\n"
     ]
    },
    {
     "name": "stderr",
     "output_type": "stream",
     "text": [
      "C:\\Users\\kaush\\anaconda3\\lib\\site-packages\\sklearn\\model_selection\\_search.py:292: UserWarning: The total space of parameters 162 is smaller than n_iter=641. Running 162 iterations. For exhaustive searches, use GridSearchCV.\n",
      "  warnings.warn(\n"
     ]
    },
    {
     "name": "stdout",
     "output_type": "stream",
     "text": [
      "----------\n",
      "iter: 1\n",
      "n_candidates: 108\n",
      "n_resources: 45\n",
      "Fitting 5 folds for each of 108 candidates, totalling 540 fits\n",
      "----------\n",
      "iter: 2\n",
      "n_candidates: 72\n",
      "n_resources: 67\n",
      "Fitting 5 folds for each of 72 candidates, totalling 360 fits\n",
      "----------\n",
      "iter: 3\n",
      "n_candidates: 48\n",
      "n_resources: 101\n",
      "Fitting 5 folds for each of 48 candidates, totalling 240 fits\n",
      "----------\n",
      "iter: 4\n",
      "n_candidates: 32\n",
      "n_resources: 151\n",
      "Fitting 5 folds for each of 32 candidates, totalling 160 fits\n",
      "----------\n",
      "iter: 5\n",
      "n_candidates: 22\n",
      "n_resources: 227\n",
      "Fitting 5 folds for each of 22 candidates, totalling 110 fits\n",
      "----------\n",
      "iter: 6\n",
      "n_candidates: 15\n",
      "n_resources: 341\n",
      "Fitting 5 folds for each of 15 candidates, totalling 75 fits\n",
      "----------\n",
      "iter: 7\n",
      "n_candidates: 10\n",
      "n_resources: 512\n",
      "Fitting 5 folds for each of 10 candidates, totalling 50 fits\n",
      "----------\n",
      "iter: 8\n",
      "n_candidates: 7\n",
      "n_resources: 768\n",
      "Fitting 5 folds for each of 7 candidates, totalling 35 fits\n",
      "----------\n",
      "iter: 9\n",
      "n_candidates: 5\n",
      "n_resources: 1153\n",
      "Fitting 5 folds for each of 5 candidates, totalling 25 fits\n",
      "----------\n",
      "iter: 10\n",
      "n_candidates: 4\n",
      "n_resources: 1729\n",
      "Fitting 5 folds for each of 4 candidates, totalling 20 fits\n",
      "----------\n",
      "iter: 11\n",
      "n_candidates: 3\n",
      "n_resources: 2594\n",
      "Fitting 5 folds for each of 3 candidates, totalling 15 fits\n",
      "----------\n",
      "iter: 12\n",
      "n_candidates: 2\n",
      "n_resources: 3892\n",
      "Fitting 5 folds for each of 2 candidates, totalling 10 fits\n"
     ]
    },
    {
     "data": {
      "text/plain": [
       "HalvingRandomSearchCV(estimator=SGDClassifier(), factor=1.5, n_jobs=-1,\n",
       "                      param_distributions={'alpha': [0.0001, 0.001, 0.01],\n",
       "                                           'class_weight': ['balanced', None],\n",
       "                                           'max_iter': [500, 1000, 10000],\n",
       "                                           'penalty': ['l2', 'l1',\n",
       "                                                       'elasticnet'],\n",
       "                                           'tol': [0.01, 0.001, 0.0001]},\n",
       "                      verbose=2)"
      ]
     },
     "execution_count": 24,
     "metadata": {},
     "output_type": "execute_result"
    }
   ],
   "source": [
    "sgd_clf = SGDClassifier()\n",
    "grid = HalvingRandomSearchCV(estimator = sgd_clf, param_distributions = param_grid, refit = True, verbose = 2, n_jobs=-1, factor = 1.5)\n",
    "# fitting the model for grid search \n",
    "grid.fit(X_train_std, y_train.ravel()) "
   ]
  },
  {
   "cell_type": "code",
   "execution_count": 25,
   "metadata": {},
   "outputs": [
    {
     "name": "stdout",
     "output_type": "stream",
     "text": [
      "{'tol': 0.01, 'penalty': 'l1', 'max_iter': 500, 'class_weight': None, 'alpha': 0.001}\n"
     ]
    }
   ],
   "source": [
    "# print best parameter after tuning \n",
    "print(grid.best_params_) \n",
    "grid_predictions = grid.predict(X_test_std)"
   ]
  },
  {
   "cell_type": "code",
   "execution_count": 26,
   "metadata": {},
   "outputs": [
    {
     "name": "stdout",
     "output_type": "stream",
     "text": [
      "              precision    recall  f1-score   support\n",
      "\n",
      "           0       0.90      0.98      0.94      2827\n",
      "           1       0.88      0.45      0.59       109\n",
      "           2       0.79      0.44      0.57       458\n",
      "\n",
      "    accuracy                           0.89      3394\n",
      "   macro avg       0.86      0.62      0.70      3394\n",
      "weighted avg       0.88      0.89      0.88      3394\n",
      "\n"
     ]
    }
   ],
   "source": [
    "print(classification_report(y_test, grid_predictions)) "
   ]
  },
  {
   "cell_type": "code",
   "execution_count": null,
   "metadata": {},
   "outputs": [],
   "source": []
  }
 ],
 "metadata": {
  "kernelspec": {
   "display_name": "Python 3 (ipykernel)",
   "language": "python",
   "name": "python3"
  },
  "language_info": {
   "codemirror_mode": {
    "name": "ipython",
    "version": 3
   },
   "file_extension": ".py",
   "mimetype": "text/x-python",
   "name": "python",
   "nbconvert_exporter": "python",
   "pygments_lexer": "ipython3",
   "version": "3.8.5"
  }
 },
 "nbformat": 4,
 "nbformat_minor": 4
}
