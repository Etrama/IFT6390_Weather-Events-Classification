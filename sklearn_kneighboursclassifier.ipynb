{
 "cells": [
  {
   "cell_type": "code",
   "execution_count": 1,
   "metadata": {},
   "outputs": [],
   "source": [
    "import numpy as np\n",
    "import scipy #only sparse matrices allowed\n",
    "import pandas as pd\n",
    "import matplotlib.pyplot as plt"
   ]
  },
  {
   "cell_type": "code",
   "execution_count": 2,
   "metadata": {},
   "outputs": [],
   "source": [
    "from sklearn.metrics import classification_report\n",
    "from sklearn.metrics import confusion_matrix\n",
    "from sklearn.metrics import accuracy_score"
   ]
  },
  {
   "cell_type": "code",
   "execution_count": 3,
   "metadata": {},
   "outputs": [],
   "source": [
    "from sklearn.linear_model import LogisticRegression\n",
    "from sklearn.svm import SVC\n",
    "from sklearn.naive_bayes import GaussianNB\n",
    "from sklearn.naive_bayes import MultinomialNB\n",
    "from sklearn.linear_model import SGDClassifier\n",
    "from sklearn.neighbors import KNeighborsClassifier\n",
    "from sklearn.tree import DecisionTreeClassifier\n",
    "from sklearn.ensemble import RandomForestClassifier\n",
    "from sklearn.ensemble import GradientBoostingClassifier\n",
    "from lightgbm import LGBMClassifier\n",
    "from xgboost.sklearn import XGBClassifier"
   ]
  },
  {
   "cell_type": "code",
   "execution_count": 16,
   "metadata": {},
   "outputs": [],
   "source": [
    "#https://scikit-learn.org/stable/modules/generated/sklearn.linear_model.LogisticRegression.html\n",
    "knn_clf = KNeighborsClassifier()\n",
    "knn_clf.fit(X_train,y_train.ravel())\n",
    "knn_predictions = knn_clf.predict(X_test)\n",
    "knn_accuracy = knn_clf.score(X_test, y_test.ravel())"
   ]
  },
  {
   "cell_type": "code",
   "execution_count": 17,
   "metadata": {},
   "outputs": [
    {
     "data": {
      "text/plain": [
       "0.8791420118343195"
      ]
     },
     "execution_count": 17,
     "metadata": {},
     "output_type": "execute_result"
    }
   ],
   "source": [
    "knn_accuracy"
   ]
  },
  {
   "cell_type": "code",
   "execution_count": 4,
   "metadata": {},
   "outputs": [],
   "source": [
    "#https://stackoverflow.com/questions/3518778/how-do-i-read-csv-data-into-a-record-array-in-numpy\n",
    "from numpy import genfromtxt\n",
    "X_test_std = genfromtxt('X_test_std.csv', delimiter=',')\n",
    "X_train_ada_std = genfromtxt('X_train_ada_std.csv', delimiter=',')\n",
    "X_train_std = genfromtxt('X_train_std.csv', delimiter=',')\n",
    "\n",
    "y_test = genfromtxt('y_test.csv', delimiter=',')\n",
    "y_train_ada = genfromtxt('y_train_ada.csv', delimiter=',')\n",
    "y_train = genfromtxt('y_train.csv', delimiter=',')"
   ]
  },
  {
   "cell_type": "markdown",
   "metadata": {},
   "source": [
    "# Gridsearch for best hyperparameters:"
   ]
  },
  {
   "cell_type": "code",
   "execution_count": 5,
   "metadata": {},
   "outputs": [],
   "source": [
    "from sklearn.model_selection import GridSearchCV\n",
    "from sklearn.experimental import enable_halving_search_cv  # noqa\n",
    "from sklearn.model_selection import HalvingRandomSearchCV\n",
    "from sklearn.model_selection import RandomizedSearchCV"
   ]
  },
  {
   "cell_type": "code",
   "execution_count": 6,
   "metadata": {},
   "outputs": [],
   "source": [
    "#https://www.analyticsvidhya.com/blog/2021/06/tune-hyperparameters-with-gridsearchcv/\n",
    "#https://www.mygreatlearning.com/blog/gridsearchcv/"
   ]
  },
  {
   "cell_type": "code",
   "execution_count": 21,
   "metadata": {},
   "outputs": [],
   "source": [
    "param_grid = {\n",
    "    'n_neighbors' : [3, 5, 9, 15, ], #50, 100],\n",
    "    'weights' : ['uniform', 'distance'],\n",
    "    'algorithm' : ['auto', 'ball_tree', 'kd_tree', 'brute'],\n",
    "    'leaf_size' : [15, 30, 45, 60],\n",
    "    'p' : [1, 2, 3, 4],\n",
    "    'metric' : ['minkowski']\n",
    "}"
   ]
  },
  {
   "cell_type": "code",
   "execution_count": 22,
   "metadata": {
    "collapsed": true,
    "jupyter": {
     "outputs_hidden": true
    }
   },
   "outputs": [
    {
     "name": "stdout",
     "output_type": "stream",
     "text": [
      "n_iterations: 19\n",
      "n_required_iterations: 19\n",
      "n_possible_iterations: 22\n",
      "min_resources_: 30\n",
      "max_resources_: 47961\n",
      "aggressive_elimination: False\n",
      "factor: 1.4\n",
      "----------\n",
      "iter: 0\n",
      "n_candidates: 512\n",
      "n_resources: 30\n",
      "Fitting 5 folds for each of 512 candidates, totalling 2560 fits\n"
     ]
    },
    {
     "name": "stderr",
     "output_type": "stream",
     "text": [
      "C:\\Users\\kaush\\anaconda3\\lib\\site-packages\\sklearn\\model_selection\\_search.py:292: UserWarning: The total space of parameters 512 is smaller than n_iter=1598. Running 512 iterations. For exhaustive searches, use GridSearchCV.\n",
      "  warnings.warn(\n"
     ]
    },
    {
     "name": "stdout",
     "output_type": "stream",
     "text": [
      "----------\n",
      "iter: 1\n",
      "n_candidates: 366\n",
      "n_resources: 42\n",
      "Fitting 5 folds for each of 366 candidates, totalling 1830 fits\n",
      "----------\n",
      "iter: 2\n",
      "n_candidates: 262\n",
      "n_resources: 58\n",
      "Fitting 5 folds for each of 262 candidates, totalling 1310 fits\n",
      "----------\n",
      "iter: 3\n",
      "n_candidates: 188\n",
      "n_resources: 82\n",
      "Fitting 5 folds for each of 188 candidates, totalling 940 fits\n",
      "----------\n",
      "iter: 4\n",
      "n_candidates: 135\n",
      "n_resources: 115\n",
      "Fitting 5 folds for each of 135 candidates, totalling 675 fits\n",
      "----------\n",
      "iter: 5\n",
      "n_candidates: 97\n",
      "n_resources: 161\n",
      "Fitting 5 folds for each of 97 candidates, totalling 485 fits\n",
      "----------\n",
      "iter: 6\n",
      "n_candidates: 70\n",
      "n_resources: 225\n",
      "Fitting 5 folds for each of 70 candidates, totalling 350 fits\n",
      "----------\n",
      "iter: 7\n",
      "n_candidates: 50\n",
      "n_resources: 316\n",
      "Fitting 5 folds for each of 50 candidates, totalling 250 fits\n",
      "----------\n",
      "iter: 8\n",
      "n_candidates: 36\n",
      "n_resources: 442\n",
      "Fitting 5 folds for each of 36 candidates, totalling 180 fits\n",
      "----------\n",
      "iter: 9\n",
      "n_candidates: 26\n",
      "n_resources: 619\n",
      "Fitting 5 folds for each of 26 candidates, totalling 130 fits\n",
      "----------\n",
      "iter: 10\n",
      "n_candidates: 19\n",
      "n_resources: 867\n",
      "Fitting 5 folds for each of 19 candidates, totalling 95 fits\n",
      "----------\n",
      "iter: 11\n",
      "n_candidates: 14\n",
      "n_resources: 1214\n",
      "Fitting 5 folds for each of 14 candidates, totalling 70 fits\n",
      "----------\n",
      "iter: 12\n",
      "n_candidates: 10\n",
      "n_resources: 1700\n",
      "Fitting 5 folds for each of 10 candidates, totalling 50 fits\n",
      "----------\n",
      "iter: 13\n",
      "n_candidates: 8\n",
      "n_resources: 2381\n",
      "Fitting 5 folds for each of 8 candidates, totalling 40 fits\n",
      "----------\n",
      "iter: 14\n",
      "n_candidates: 6\n",
      "n_resources: 3333\n",
      "Fitting 5 folds for each of 6 candidates, totalling 30 fits\n",
      "----------\n",
      "iter: 15\n",
      "n_candidates: 5\n",
      "n_resources: 4667\n",
      "Fitting 5 folds for each of 5 candidates, totalling 25 fits\n",
      "----------\n",
      "iter: 16\n",
      "n_candidates: 4\n",
      "n_resources: 6533\n",
      "Fitting 5 folds for each of 4 candidates, totalling 20 fits\n",
      "----------\n",
      "iter: 17\n",
      "n_candidates: 3\n",
      "n_resources: 9147\n",
      "Fitting 5 folds for each of 3 candidates, totalling 15 fits\n",
      "----------\n",
      "iter: 18\n",
      "n_candidates: 3\n",
      "n_resources: 12806\n",
      "Fitting 5 folds for each of 3 candidates, totalling 15 fits\n"
     ]
    },
    {
     "data": {
      "text/plain": [
       "HalvingRandomSearchCV(estimator=KNeighborsClassifier(), factor=1.4, n_jobs=-1,\n",
       "                      param_distributions={'algorithm': ['auto', 'ball_tree',\n",
       "                                                         'kd_tree', 'brute'],\n",
       "                                           'leaf_size': [15, 30, 45, 60],\n",
       "                                           'metric': ['minkowski'],\n",
       "                                           'n_neighbors': [3, 5, 9, 15],\n",
       "                                           'p': [1, 2, 3, 4],\n",
       "                                           'weights': ['uniform', 'distance']},\n",
       "                      verbose=2)"
      ]
     },
     "execution_count": 22,
     "metadata": {},
     "output_type": "execute_result"
    }
   ],
   "source": [
    "knn_clf = KNeighborsClassifier()\n",
    "grid = HalvingRandomSearchCV(estimator = knn_clf, param_distributions = param_grid, refit = True, verbose = 2, n_jobs=-1, factor = 1.4)\n",
    "# fitting the model for grid search \n",
    "grid.fit(X_train_ada_std, y_train_ada.ravel())"
   ]
  },
  {
   "cell_type": "code",
   "execution_count": 23,
   "metadata": {},
   "outputs": [
    {
     "name": "stdout",
     "output_type": "stream",
     "text": [
      "{'weights': 'distance', 'p': 1, 'n_neighbors': 5, 'metric': 'minkowski', 'leaf_size': 45, 'algorithm': 'auto'}\n"
     ]
    }
   ],
   "source": [
    "# print best parameter after tuning \n",
    "print(grid.best_params_) \n",
    "grid_predictions = grid.predict(X_test_std)"
   ]
  },
  {
   "cell_type": "code",
   "execution_count": 24,
   "metadata": {},
   "outputs": [
    {
     "name": "stdout",
     "output_type": "stream",
     "text": [
      "              precision    recall  f1-score   support\n",
      "\n",
      "         0.0       1.00      0.98      0.99      2827\n",
      "         1.0       0.77      1.00      0.87       109\n",
      "         2.0       0.95      0.99      0.97       458\n",
      "\n",
      "    accuracy                           0.98      3394\n",
      "   macro avg       0.91      0.99      0.94      3394\n",
      "weighted avg       0.98      0.98      0.98      3394\n",
      "\n"
     ]
    }
   ],
   "source": [
    "print(classification_report(y_test, grid_predictions)) "
   ]
  },
  {
   "cell_type": "code",
   "execution_count": null,
   "metadata": {},
   "outputs": [],
   "source": []
  },
  {
   "cell_type": "code",
   "execution_count": 25,
   "metadata": {
    "collapsed": true,
    "jupyter": {
     "outputs_hidden": true
    }
   },
   "outputs": [
    {
     "name": "stdout",
     "output_type": "stream",
     "text": [
      "n_iterations: 19\n",
      "n_required_iterations: 19\n",
      "n_possible_iterations: 20\n",
      "min_resources_: 30\n",
      "max_resources_: 19256\n",
      "aggressive_elimination: False\n",
      "factor: 1.4\n",
      "----------\n",
      "iter: 0\n",
      "n_candidates: 512\n",
      "n_resources: 30\n",
      "Fitting 5 folds for each of 512 candidates, totalling 2560 fits\n"
     ]
    },
    {
     "name": "stderr",
     "output_type": "stream",
     "text": [
      "C:\\Users\\kaush\\anaconda3\\lib\\site-packages\\sklearn\\model_selection\\_search.py:292: UserWarning: The total space of parameters 512 is smaller than n_iter=641. Running 512 iterations. For exhaustive searches, use GridSearchCV.\n",
      "  warnings.warn(\n"
     ]
    },
    {
     "name": "stdout",
     "output_type": "stream",
     "text": [
      "----------\n",
      "iter: 1\n",
      "n_candidates: 366\n",
      "n_resources: 42\n",
      "Fitting 5 folds for each of 366 candidates, totalling 1830 fits\n",
      "----------\n",
      "iter: 2\n",
      "n_candidates: 262\n",
      "n_resources: 58\n",
      "Fitting 5 folds for each of 262 candidates, totalling 1310 fits\n",
      "----------\n",
      "iter: 3\n",
      "n_candidates: 188\n",
      "n_resources: 82\n",
      "Fitting 5 folds for each of 188 candidates, totalling 940 fits\n",
      "----------\n",
      "iter: 4\n",
      "n_candidates: 135\n",
      "n_resources: 115\n",
      "Fitting 5 folds for each of 135 candidates, totalling 675 fits\n",
      "----------\n",
      "iter: 5\n",
      "n_candidates: 97\n",
      "n_resources: 161\n",
      "Fitting 5 folds for each of 97 candidates, totalling 485 fits\n",
      "----------\n",
      "iter: 6\n",
      "n_candidates: 70\n",
      "n_resources: 225\n",
      "Fitting 5 folds for each of 70 candidates, totalling 350 fits\n",
      "----------\n",
      "iter: 7\n",
      "n_candidates: 50\n",
      "n_resources: 316\n",
      "Fitting 5 folds for each of 50 candidates, totalling 250 fits\n",
      "----------\n",
      "iter: 8\n",
      "n_candidates: 36\n",
      "n_resources: 442\n",
      "Fitting 5 folds for each of 36 candidates, totalling 180 fits\n",
      "----------\n",
      "iter: 9\n",
      "n_candidates: 26\n",
      "n_resources: 619\n",
      "Fitting 5 folds for each of 26 candidates, totalling 130 fits\n",
      "----------\n",
      "iter: 10\n",
      "n_candidates: 19\n",
      "n_resources: 867\n",
      "Fitting 5 folds for each of 19 candidates, totalling 95 fits\n",
      "----------\n",
      "iter: 11\n",
      "n_candidates: 14\n",
      "n_resources: 1214\n",
      "Fitting 5 folds for each of 14 candidates, totalling 70 fits\n",
      "----------\n",
      "iter: 12\n",
      "n_candidates: 10\n",
      "n_resources: 1700\n",
      "Fitting 5 folds for each of 10 candidates, totalling 50 fits\n",
      "----------\n",
      "iter: 13\n",
      "n_candidates: 8\n",
      "n_resources: 2381\n",
      "Fitting 5 folds for each of 8 candidates, totalling 40 fits\n",
      "----------\n",
      "iter: 14\n",
      "n_candidates: 6\n",
      "n_resources: 3333\n",
      "Fitting 5 folds for each of 6 candidates, totalling 30 fits\n",
      "----------\n",
      "iter: 15\n",
      "n_candidates: 5\n",
      "n_resources: 4667\n",
      "Fitting 5 folds for each of 5 candidates, totalling 25 fits\n",
      "----------\n",
      "iter: 16\n",
      "n_candidates: 4\n",
      "n_resources: 6533\n",
      "Fitting 5 folds for each of 4 candidates, totalling 20 fits\n",
      "----------\n",
      "iter: 17\n",
      "n_candidates: 3\n",
      "n_resources: 9147\n",
      "Fitting 5 folds for each of 3 candidates, totalling 15 fits\n",
      "----------\n",
      "iter: 18\n",
      "n_candidates: 3\n",
      "n_resources: 12806\n",
      "Fitting 5 folds for each of 3 candidates, totalling 15 fits\n"
     ]
    },
    {
     "data": {
      "text/plain": [
       "HalvingRandomSearchCV(estimator=KNeighborsClassifier(), factor=1.4, n_jobs=-1,\n",
       "                      param_distributions={'algorithm': ['auto', 'ball_tree',\n",
       "                                                         'kd_tree', 'brute'],\n",
       "                                           'leaf_size': [15, 30, 45, 60],\n",
       "                                           'metric': ['minkowski'],\n",
       "                                           'n_neighbors': [3, 5, 9, 15],\n",
       "                                           'p': [1, 2, 3, 4],\n",
       "                                           'weights': ['uniform', 'distance']},\n",
       "                      verbose=2)"
      ]
     },
     "execution_count": 25,
     "metadata": {},
     "output_type": "execute_result"
    }
   ],
   "source": [
    "knn_clf = KNeighborsClassifier()\n",
    "grid = HalvingRandomSearchCV(estimator = knn_clf, param_distributions = param_grid, refit = True, verbose = 2, n_jobs=-1, factor = 1.4)\n",
    "# fitting the model for grid search \n",
    "grid.fit(X_train_std, y_train.ravel()) "
   ]
  },
  {
   "cell_type": "code",
   "execution_count": 26,
   "metadata": {},
   "outputs": [
    {
     "name": "stdout",
     "output_type": "stream",
     "text": [
      "{'weights': 'distance', 'p': 1, 'n_neighbors': 5, 'metric': 'minkowski', 'leaf_size': 30, 'algorithm': 'auto'}\n"
     ]
    }
   ],
   "source": [
    "# print best parameter after tuning \n",
    "print(grid.best_params_) \n",
    "grid_predictions = grid.predict(X_test_std)"
   ]
  },
  {
   "cell_type": "code",
   "execution_count": 27,
   "metadata": {},
   "outputs": [
    {
     "name": "stdout",
     "output_type": "stream",
     "text": [
      "              precision    recall  f1-score   support\n",
      "\n",
      "         0.0       1.00      1.00      1.00      2827\n",
      "         1.0       0.97      0.96      0.97       109\n",
      "         2.0       0.99      0.99      0.99       458\n",
      "\n",
      "    accuracy                           1.00      3394\n",
      "   macro avg       0.99      0.98      0.99      3394\n",
      "weighted avg       1.00      1.00      1.00      3394\n",
      "\n"
     ]
    }
   ],
   "source": [
    "print(classification_report(y_test, grid_predictions)) "
   ]
  },
  {
   "cell_type": "code",
   "execution_count": null,
   "metadata": {},
   "outputs": [],
   "source": []
  }
 ],
 "metadata": {
  "kernelspec": {
   "display_name": "Python 3 (ipykernel)",
   "language": "python",
   "name": "python3"
  },
  "language_info": {
   "codemirror_mode": {
    "name": "ipython",
    "version": 3
   },
   "file_extension": ".py",
   "mimetype": "text/x-python",
   "name": "python",
   "nbconvert_exporter": "python",
   "pygments_lexer": "ipython3",
   "version": "3.8.5"
  }
 },
 "nbformat": 4,
 "nbformat_minor": 4
}
